{
 "cells": [
  {
   "cell_type": "markdown",
   "id": "2099c10f",
   "metadata": {},
   "source": [
    "### Анализ пользовательского опыта сервиса GoFast"
   ]
  },
  {
   "cell_type": "markdown",
   "id": "049b502a",
   "metadata": {},
   "source": [
    "## План работы  \n",
    "1. Первчиное знакомство с данными: ознакомление с составом трёх таблиц, количеством пропусков, выявление дублей  \n",
    "    \n",
    "2. Обработка пропущенных значений и дубликатов, изменение типов данных, создание дополнительных столбцов на основе имеющейся информации\n",
    "\n",
    "3. Проведение исследовательского анализа данны,: описание и визуализация данных об использовании сервиса по следующим параметрам:    \n",
    "1) частота встречаемости городов;  \n",
    "2) соотношение пользователей с подпиской и без подписки;  \n",
    "3) возраст пользователей;  \n",
    "4) расстояние, которое пользователь преодолел за одну поездку;  \n",
    "5) продолжительность поездок  \n",
    "\n",
    "4. Объединение данных из трёх таблиц. Визуализация и анализ данных о расстоянии и времени поездок отдельно для пользователей с подпиской и без подписки.   \n",
    "\n",
    "\n",
    "5. Визуализация и анализ данных по сводной таблице по следующим параметрам для каждого пользователя за месяц использования сервиса:  \n",
    "    - суммарное время использования,   \n",
    "    - суммарное расстояние,  \n",
    "    - количество поездок.  \n",
    "Подсчёт выручки, полученой от каждого пользователя с разными тарифными планами. Добавление столбца с помесячной выручкой на основе имеющейся информации.  \n",
    "\n",
    "6. Анализ и определение ожиданий для параметров, отражающих использование сервиса пользователями с разными типами подписки.  \n",
    "Поиск зависимости выручки от типа подписки и выявление таргетных групп для будущих акций компании.\n",
    "7. Исследование и рассчёт параметров, необходимых для настройки будущей акции по рассылке промо-кодов и рассылке push-уведомелений.  \n",
    "8. Формулировка выводов по проведённому исследованию\n"
   ]
  },
  {
   "cell_type": "code",
   "execution_count": 1,
   "id": "aab94dd3",
   "metadata": {},
   "outputs": [],
   "source": [
    "#импорт библиотек\n",
    "import os\n",
    "import pandas as pd\n",
    "import matplotlib.pyplot as plt\n",
    "import numpy as np\n",
    "from scipy.stats import binom\n",
    "import seaborn as sns\n",
    "from math import sqrt\n",
    "from scipy import stats as st\n",
    "\n",
    "\n",
    "np.random.seed(0)"
   ]
  },
  {
   "cell_type": "markdown",
   "id": "8fdb9665",
   "metadata": {},
   "source": [
    "#### Шаг 1. Загрузка данных"
   ]
  },
  {
   "cell_type": "code",
   "execution_count": 2,
   "id": "2cfb72cf",
   "metadata": {},
   "outputs": [],
   "source": [
    "#чтение файлов\n",
    "\n",
    "pd.set_option('display.max_columns', 50) \n",
    "pth1_1 = '/datasets/users_go.csv'\n",
    "pth2_1 = 'users_go.csv'\n",
    "\n",
    "pth1_2 = '/datasets/rides_go.csv'\n",
    "pth2_2 = 'rides_go.csv'\n",
    "\n",
    "pth1_3 = '/datasets/subscriptions_go.csv'\n",
    "pth2_3 = 'subscriptions_go.csv'\n",
    "\n",
    "if os.path.exists(pth1_1):\n",
    "    data1 = pd.read_csv(pth1_1, sep=',')\n",
    "elif os.path.exists(pth2_1):\n",
    "    data1 = pd.read_csv(pth2_1, sep=',')\n",
    "else:\n",
    "    print('Something is wrong')\n",
    "    \n",
    "if os.path.exists(pth1_2):\n",
    "    data2 = pd.read_csv(pth1_2, sep=',', parse_dates=['date'])\n",
    "elif os.path.exists(pth2_2):\n",
    "    data2 = pd.read_csv(pth2_2, sep=',', parse_dates=['date'])\n",
    "else:\n",
    "    print('Something is wrong')\n",
    "    \n",
    "if os.path.exists(pth1_3):\n",
    "    data3 = pd.read_csv(pth1_3, sep=',')\n",
    "elif os.path.exists(pth2_3):\n",
    "    data3 = pd.read_csv(pth2_3, sep=',')\n",
    "else:\n",
    "    print('Something is wrong')    \n"
   ]
  },
  {
   "cell_type": "code",
   "execution_count": 3,
   "id": "69124df9",
   "metadata": {},
   "outputs": [
    {
     "data": {
      "text/html": [
       "<div>\n",
       "<style scoped>\n",
       "    .dataframe tbody tr th:only-of-type {\n",
       "        vertical-align: middle;\n",
       "    }\n",
       "\n",
       "    .dataframe tbody tr th {\n",
       "        vertical-align: top;\n",
       "    }\n",
       "\n",
       "    .dataframe thead th {\n",
       "        text-align: right;\n",
       "    }\n",
       "</style>\n",
       "<table border=\"1\" class=\"dataframe\">\n",
       "  <thead>\n",
       "    <tr style=\"text-align: right;\">\n",
       "      <th></th>\n",
       "      <th>user_id</th>\n",
       "      <th>name</th>\n",
       "      <th>age</th>\n",
       "      <th>city</th>\n",
       "      <th>subscription_type</th>\n",
       "    </tr>\n",
       "  </thead>\n",
       "  <tbody>\n",
       "    <tr>\n",
       "      <th>0</th>\n",
       "      <td>1</td>\n",
       "      <td>Кира</td>\n",
       "      <td>22</td>\n",
       "      <td>Тюмень</td>\n",
       "      <td>ultra</td>\n",
       "    </tr>\n",
       "    <tr>\n",
       "      <th>1</th>\n",
       "      <td>2</td>\n",
       "      <td>Станислав</td>\n",
       "      <td>31</td>\n",
       "      <td>Омск</td>\n",
       "      <td>ultra</td>\n",
       "    </tr>\n",
       "    <tr>\n",
       "      <th>2</th>\n",
       "      <td>3</td>\n",
       "      <td>Алексей</td>\n",
       "      <td>20</td>\n",
       "      <td>Москва</td>\n",
       "      <td>ultra</td>\n",
       "    </tr>\n",
       "    <tr>\n",
       "      <th>3</th>\n",
       "      <td>4</td>\n",
       "      <td>Константин</td>\n",
       "      <td>26</td>\n",
       "      <td>Ростов-на-Дону</td>\n",
       "      <td>ultra</td>\n",
       "    </tr>\n",
       "    <tr>\n",
       "      <th>4</th>\n",
       "      <td>5</td>\n",
       "      <td>Адель</td>\n",
       "      <td>28</td>\n",
       "      <td>Омск</td>\n",
       "      <td>ultra</td>\n",
       "    </tr>\n",
       "    <tr>\n",
       "      <th>5</th>\n",
       "      <td>6</td>\n",
       "      <td>Регина</td>\n",
       "      <td>25</td>\n",
       "      <td>Краснодар</td>\n",
       "      <td>ultra</td>\n",
       "    </tr>\n",
       "    <tr>\n",
       "      <th>6</th>\n",
       "      <td>7</td>\n",
       "      <td>Игорь</td>\n",
       "      <td>23</td>\n",
       "      <td>Омск</td>\n",
       "      <td>ultra</td>\n",
       "    </tr>\n",
       "    <tr>\n",
       "      <th>7</th>\n",
       "      <td>8</td>\n",
       "      <td>Юрий</td>\n",
       "      <td>23</td>\n",
       "      <td>Краснодар</td>\n",
       "      <td>ultra</td>\n",
       "    </tr>\n",
       "    <tr>\n",
       "      <th>8</th>\n",
       "      <td>9</td>\n",
       "      <td>Ян</td>\n",
       "      <td>21</td>\n",
       "      <td>Пятигорск</td>\n",
       "      <td>ultra</td>\n",
       "    </tr>\n",
       "    <tr>\n",
       "      <th>9</th>\n",
       "      <td>10</td>\n",
       "      <td>Валерий</td>\n",
       "      <td>18</td>\n",
       "      <td>Екатеринбург</td>\n",
       "      <td>ultra</td>\n",
       "    </tr>\n",
       "  </tbody>\n",
       "</table>\n",
       "</div>"
      ],
      "text/plain": [
       "   user_id        name  age            city subscription_type\n",
       "0        1        Кира   22          Тюмень             ultra\n",
       "1        2   Станислав   31            Омск             ultra\n",
       "2        3     Алексей   20          Москва             ultra\n",
       "3        4  Константин   26  Ростов-на-Дону             ultra\n",
       "4        5       Адель   28            Омск             ultra\n",
       "5        6      Регина   25       Краснодар             ultra\n",
       "6        7       Игорь   23            Омск             ultra\n",
       "7        8        Юрий   23       Краснодар             ultra\n",
       "8        9          Ян   21       Пятигорск             ultra\n",
       "9       10     Валерий   18    Екатеринбург             ultra"
      ]
     },
     "metadata": {},
     "output_type": "display_data"
    },
    {
     "name": "stdout",
     "output_type": "stream",
     "text": [
      "<class 'pandas.core.frame.DataFrame'>\n",
      "RangeIndex: 1565 entries, 0 to 1564\n",
      "Data columns (total 5 columns):\n",
      " #   Column             Non-Null Count  Dtype \n",
      "---  ------             --------------  ----- \n",
      " 0   user_id            1565 non-null   int64 \n",
      " 1   name               1565 non-null   object\n",
      " 2   age                1565 non-null   int64 \n",
      " 3   city               1565 non-null   object\n",
      " 4   subscription_type  1565 non-null   object\n",
      "dtypes: int64(2), object(3)\n",
      "memory usage: 61.3+ KB\n"
     ]
    },
    {
     "data": {
      "text/html": [
       "<div>\n",
       "<style scoped>\n",
       "    .dataframe tbody tr th:only-of-type {\n",
       "        vertical-align: middle;\n",
       "    }\n",
       "\n",
       "    .dataframe tbody tr th {\n",
       "        vertical-align: top;\n",
       "    }\n",
       "\n",
       "    .dataframe thead th {\n",
       "        text-align: right;\n",
       "    }\n",
       "</style>\n",
       "<table border=\"1\" class=\"dataframe\">\n",
       "  <thead>\n",
       "    <tr style=\"text-align: right;\">\n",
       "      <th></th>\n",
       "      <th>user_id</th>\n",
       "      <th>distance</th>\n",
       "      <th>duration</th>\n",
       "      <th>date</th>\n",
       "    </tr>\n",
       "  </thead>\n",
       "  <tbody>\n",
       "    <tr>\n",
       "      <th>0</th>\n",
       "      <td>1</td>\n",
       "      <td>4409.919140</td>\n",
       "      <td>25.599769</td>\n",
       "      <td>2021-01-01</td>\n",
       "    </tr>\n",
       "    <tr>\n",
       "      <th>1</th>\n",
       "      <td>1</td>\n",
       "      <td>2617.592153</td>\n",
       "      <td>15.816871</td>\n",
       "      <td>2021-01-18</td>\n",
       "    </tr>\n",
       "    <tr>\n",
       "      <th>2</th>\n",
       "      <td>1</td>\n",
       "      <td>754.159807</td>\n",
       "      <td>6.232113</td>\n",
       "      <td>2021-04-20</td>\n",
       "    </tr>\n",
       "    <tr>\n",
       "      <th>3</th>\n",
       "      <td>1</td>\n",
       "      <td>2694.783254</td>\n",
       "      <td>18.511000</td>\n",
       "      <td>2021-08-11</td>\n",
       "    </tr>\n",
       "    <tr>\n",
       "      <th>4</th>\n",
       "      <td>1</td>\n",
       "      <td>4028.687306</td>\n",
       "      <td>26.265803</td>\n",
       "      <td>2021-08-28</td>\n",
       "    </tr>\n",
       "    <tr>\n",
       "      <th>5</th>\n",
       "      <td>1</td>\n",
       "      <td>2770.890808</td>\n",
       "      <td>16.650138</td>\n",
       "      <td>2021-10-09</td>\n",
       "    </tr>\n",
       "    <tr>\n",
       "      <th>6</th>\n",
       "      <td>1</td>\n",
       "      <td>3039.020292</td>\n",
       "      <td>14.927879</td>\n",
       "      <td>2021-10-19</td>\n",
       "    </tr>\n",
       "    <tr>\n",
       "      <th>7</th>\n",
       "      <td>1</td>\n",
       "      <td>2842.118050</td>\n",
       "      <td>23.117468</td>\n",
       "      <td>2021-11-06</td>\n",
       "    </tr>\n",
       "    <tr>\n",
       "      <th>8</th>\n",
       "      <td>1</td>\n",
       "      <td>3412.690668</td>\n",
       "      <td>15.238072</td>\n",
       "      <td>2021-11-14</td>\n",
       "    </tr>\n",
       "    <tr>\n",
       "      <th>9</th>\n",
       "      <td>1</td>\n",
       "      <td>748.690645</td>\n",
       "      <td>15.041884</td>\n",
       "      <td>2021-11-22</td>\n",
       "    </tr>\n",
       "  </tbody>\n",
       "</table>\n",
       "</div>"
      ],
      "text/plain": [
       "   user_id     distance   duration       date\n",
       "0        1  4409.919140  25.599769 2021-01-01\n",
       "1        1  2617.592153  15.816871 2021-01-18\n",
       "2        1   754.159807   6.232113 2021-04-20\n",
       "3        1  2694.783254  18.511000 2021-08-11\n",
       "4        1  4028.687306  26.265803 2021-08-28\n",
       "5        1  2770.890808  16.650138 2021-10-09\n",
       "6        1  3039.020292  14.927879 2021-10-19\n",
       "7        1  2842.118050  23.117468 2021-11-06\n",
       "8        1  3412.690668  15.238072 2021-11-14\n",
       "9        1   748.690645  15.041884 2021-11-22"
      ]
     },
     "metadata": {},
     "output_type": "display_data"
    },
    {
     "name": "stdout",
     "output_type": "stream",
     "text": [
      "<class 'pandas.core.frame.DataFrame'>\n",
      "RangeIndex: 18068 entries, 0 to 18067\n",
      "Data columns (total 4 columns):\n",
      " #   Column    Non-Null Count  Dtype         \n",
      "---  ------    --------------  -----         \n",
      " 0   user_id   18068 non-null  int64         \n",
      " 1   distance  18068 non-null  float64       \n",
      " 2   duration  18068 non-null  float64       \n",
      " 3   date      18068 non-null  datetime64[ns]\n",
      "dtypes: datetime64[ns](1), float64(2), int64(1)\n",
      "memory usage: 564.8 KB\n"
     ]
    },
    {
     "data": {
      "text/html": [
       "<div>\n",
       "<style scoped>\n",
       "    .dataframe tbody tr th:only-of-type {\n",
       "        vertical-align: middle;\n",
       "    }\n",
       "\n",
       "    .dataframe tbody tr th {\n",
       "        vertical-align: top;\n",
       "    }\n",
       "\n",
       "    .dataframe thead th {\n",
       "        text-align: right;\n",
       "    }\n",
       "</style>\n",
       "<table border=\"1\" class=\"dataframe\">\n",
       "  <thead>\n",
       "    <tr style=\"text-align: right;\">\n",
       "      <th></th>\n",
       "      <th>subscription_type</th>\n",
       "      <th>minute_price</th>\n",
       "      <th>start_ride_price</th>\n",
       "      <th>subscription_fee</th>\n",
       "    </tr>\n",
       "  </thead>\n",
       "  <tbody>\n",
       "    <tr>\n",
       "      <th>0</th>\n",
       "      <td>free</td>\n",
       "      <td>8</td>\n",
       "      <td>50</td>\n",
       "      <td>0</td>\n",
       "    </tr>\n",
       "    <tr>\n",
       "      <th>1</th>\n",
       "      <td>ultra</td>\n",
       "      <td>6</td>\n",
       "      <td>0</td>\n",
       "      <td>199</td>\n",
       "    </tr>\n",
       "  </tbody>\n",
       "</table>\n",
       "</div>"
      ],
      "text/plain": [
       "  subscription_type  minute_price  start_ride_price  subscription_fee\n",
       "0              free             8                50                 0\n",
       "1             ultra             6                 0               199"
      ]
     },
     "metadata": {},
     "output_type": "display_data"
    },
    {
     "name": "stdout",
     "output_type": "stream",
     "text": [
      "<class 'pandas.core.frame.DataFrame'>\n",
      "RangeIndex: 2 entries, 0 to 1\n",
      "Data columns (total 4 columns):\n",
      " #   Column             Non-Null Count  Dtype \n",
      "---  ------             --------------  ----- \n",
      " 0   subscription_type  2 non-null      object\n",
      " 1   minute_price       2 non-null      int64 \n",
      " 2   start_ride_price   2 non-null      int64 \n",
      " 3   subscription_fee   2 non-null      int64 \n",
      "dtypes: int64(3), object(1)\n",
      "memory usage: 192.0+ bytes\n"
     ]
    }
   ],
   "source": [
    "display(data1.head(10))\n",
    "data1.info()\n",
    "display(data2.head(10)) \n",
    "data2.info()\n",
    "display(data3.head(10)) \n",
    "data3.info()"
   ]
  },
  {
   "cell_type": "markdown",
   "id": "df2aaa75",
   "metadata": {},
   "source": [
    "Было проведено ознакомление с составом трёх таблиц.\n",
    "В первой таблице находится 1565 записей о пользователях по следующим характеристикам:    \n",
    "    - id пользователя  \n",
    "    - имя  \n",
    "    - возраст  \n",
    "    - город  \n",
    "    - тип подписки  \n",
    "Во второй таблице 18068 записей о поездках пользователей по следующим парамтрам:  \n",
    "    - id пользователя   \n",
    "    - расстояние  \n",
    "    - продолжительность  \n",
    "    - дата поездки  \n",
    "В третьей таблице описывается тарифы пользования сервисом по следующим параметрам:  \n",
    "    - название тарифа  \n",
    "    - стоимость минуту  \n",
    "    - стоимость начала поездки  \n",
    "    - стоимость месячной подписки  \n",
    "Во всех таблицах не наблюдается пропусков, типы данных нужно будет изменять для будущих вычислений\n",
    "    "
   ]
  },
  {
   "cell_type": "markdown",
   "id": "4181194e",
   "metadata": {},
   "source": [
    "#### Шаг 2. Предобработка данных"
   ]
  },
  {
   "cell_type": "code",
   "execution_count": 4,
   "id": "152d3076",
   "metadata": {},
   "outputs": [],
   "source": [
    "#приведение столбца даты к типу data\n",
    "#создание стобца с номером месяца\n",
    "\n",
    "data2['date'] = pd.to_datetime(data2['date'], format='%Y-%m-%dT%H:%M:%S')\n",
    "data2['month']=data2['date'].dt.month"
   ]
  },
  {
   "cell_type": "code",
   "execution_count": 5,
   "id": "1756ded9",
   "metadata": {},
   "outputs": [
    {
     "data": {
      "text/plain": [
       "user_id              0\n",
       "name                 0\n",
       "age                  0\n",
       "city                 0\n",
       "subscription_type    0\n",
       "dtype: int64"
      ]
     },
     "metadata": {},
     "output_type": "display_data"
    },
    {
     "data": {
      "text/plain": [
       "user_id     0\n",
       "distance    0\n",
       "duration    0\n",
       "date        0\n",
       "month       0\n",
       "dtype: int64"
      ]
     },
     "metadata": {},
     "output_type": "display_data"
    },
    {
     "data": {
      "text/plain": [
       "subscription_type    0\n",
       "minute_price         0\n",
       "start_ride_price     0\n",
       "subscription_fee     0\n",
       "dtype: int64"
      ]
     },
     "metadata": {},
     "output_type": "display_data"
    }
   ],
   "source": [
    "#проверка на наличие пропущенных значений\n",
    "\n",
    "display(data1.isna().sum(), data2.isna().sum(), data3.isna().sum())"
   ]
  },
  {
   "cell_type": "code",
   "execution_count": 6,
   "id": "9c9bc174",
   "metadata": {
    "scrolled": true
   },
   "outputs": [
    {
     "data": {
      "text/plain": [
       "array(['Кира', 'Станислав', 'Алексей', 'Константин', 'Адель', 'Регина',\n",
       "       'Игорь', 'Юрий', 'Ян', 'Валерий', 'Агата', 'Марк', 'Ева',\n",
       "       'Антонина', 'Валерия', 'Амалия', 'Даниил', 'Аделина', 'Святогор',\n",
       "       'Борис', 'Вероника', 'Ростислав', 'Назар', 'Эдуард', 'Василий',\n",
       "       'Денис', 'Тамара', 'Николай', 'Эвелина', 'Федор', 'Руслан', 'Иван',\n",
       "       'Любовь', 'Ярослава', 'Майя', 'Ильдар', 'Данила', 'Нина',\n",
       "       'Стефания', 'Ясмина', 'Дмитрий', 'Александр', 'Одиссей', 'Арсений',\n",
       "       'Алла', 'Таисия', 'Максим', 'Юлиана', 'Павел', 'Карина', 'Алиса',\n",
       "       'Лидия', 'Рамиль', 'Родион', 'Ника', 'Оксана', 'Анастасия',\n",
       "       'Маргарита', 'Вера', 'Тимур', 'Никита', 'Лев', 'Влад', 'Артур',\n",
       "       'Анна', 'Ольга', 'Вячеслав', 'Ксения', 'Виталина', 'Владислав',\n",
       "       'Тамерлан', 'Амина', 'Вадим', 'Олеся', 'Зарина', 'Егор', 'Гордей',\n",
       "       'Лилия', 'Святослав', 'Роберт', 'Амир', 'Влада', 'Богдан',\n",
       "       'Полина', 'Марат', 'Елисей', 'Макар', 'Алина', 'Глеб', 'Андрей',\n",
       "       'Альбина', 'Людмила', 'Марсель', 'Милена', 'Диана', 'Дарина',\n",
       "       'Данил', 'Артемий', 'Лиана', 'Альберт', 'Герман', 'Жанна', 'Нелли',\n",
       "       'Евгения', 'Ариана', 'Самира', 'Захар', 'Эльвира', 'Екатерина',\n",
       "       'Инна', 'Демид', 'Яна', 'Михаил', 'Татьяна', 'Степан', 'Мелания',\n",
       "       'Тимофей', 'Ирина', 'Анжелика', 'Владислава', 'Елизавета',\n",
       "       'Мадина', 'Снежана', 'Даниэль', 'Рустам', 'Каролина', 'Ангелина',\n",
       "       'Владимир', 'Виктория', 'Валентина', 'Семен', 'Арина', 'Лариса',\n",
       "       'Есения', 'Галина', 'Кирилл', 'Игнат', 'Виталий', 'Эмилия',\n",
       "       'Виолетта', 'Яромир', 'Софья', 'Мирослава', 'Евгений', 'Варвара',\n",
       "       'Платон', 'Наталия', 'Анатолий', 'Кристина', 'Всеволод', 'Дарья',\n",
       "       'Наташа', 'Мария', 'Марина', 'Василиса', 'Юлия', 'Илья', 'Злата',\n",
       "       'Роман', 'Наталья', 'Элина', 'Арсен', 'Айдар', 'Алия', 'Виктор',\n",
       "       'Мирон', 'Ульяна', 'Георгий', 'Петр', 'Эльмира', 'Олег', 'Дамир',\n",
       "       'Самир', 'Ярослав', 'Камилла', 'Сергей', 'Эмиль', 'Радмир',\n",
       "       'Савелий', 'Елена', 'Антон', 'Мирослав', 'София', 'Тихон', 'Артём',\n",
       "       'Давид', 'Григорий', 'Алёна', 'Светлана', 'Леонид', 'Александра',\n",
       "       'Василина', 'Милана', 'Матвей'], dtype=object)"
      ]
     },
     "metadata": {},
     "output_type": "display_data"
    },
    {
     "data": {
      "text/plain": [
       "194"
      ]
     },
     "metadata": {},
     "output_type": "display_data"
    },
    {
     "data": {
      "text/plain": [
       "1534"
      ]
     },
     "metadata": {},
     "output_type": "display_data"
    }
   ],
   "source": [
    "display(data1['name'].unique())\n",
    "display(len(data1['name'].unique()))\n",
    "display(len(data1['user_id'].unique()))"
   ]
  },
  {
   "cell_type": "code",
   "execution_count": 7,
   "id": "58e9851a",
   "metadata": {},
   "outputs": [
    {
     "name": "stdout",
     "output_type": "stream",
     "text": [
      "31\n",
      "0\n"
     ]
    }
   ],
   "source": [
    "#проверка на дубликаты\n",
    "print(data1.duplicated().sum())\n",
    "print(data2.duplicated().sum())"
   ]
  },
  {
   "cell_type": "code",
   "execution_count": 8,
   "id": "8dcd9f58",
   "metadata": {
    "scrolled": true
   },
   "outputs": [
    {
     "name": "stdout",
     "output_type": "stream",
     "text": [
      "0\n",
      "<class 'pandas.core.frame.DataFrame'>\n",
      "RangeIndex: 1534 entries, 0 to 1533\n",
      "Data columns (total 5 columns):\n",
      " #   Column             Non-Null Count  Dtype \n",
      "---  ------             --------------  ----- \n",
      " 0   user_id            1534 non-null   int64 \n",
      " 1   name               1534 non-null   object\n",
      " 2   age                1534 non-null   int64 \n",
      " 3   city               1534 non-null   object\n",
      " 4   subscription_type  1534 non-null   object\n",
      "dtypes: int64(2), object(3)\n",
      "memory usage: 60.0+ KB\n"
     ]
    }
   ],
   "source": [
    "#удаляе 31 дубликат\n",
    "data1 = data1.drop_duplicates().reset_index(drop=True)\n",
    "print(data1.duplicated().sum())\n",
    "data1.info()"
   ]
  },
  {
   "cell_type": "markdown",
   "id": "64731712",
   "metadata": {},
   "source": [
    "При исследовании таблицы с пользователями были обнаружены и удалены 31 дубликат.   \n",
    "Выявлены 194 уникальных имени и 1534 уникальных id пользователей.\n",
    "Также был проведена заменена типа данных на date в столбце с датой.  \n",
    "Пропуски в таблицах не были обнаружены.  "
   ]
  },
  {
   "cell_type": "markdown",
   "id": "212593c7",
   "metadata": {},
   "source": [
    "#### Шаг 3. Исследовательский анализ данных"
   ]
  },
  {
   "cell_type": "code",
   "execution_count": 9,
   "id": "e3a4274c",
   "metadata": {
    "scrolled": true
   },
   "outputs": [
    {
     "name": "stdout",
     "output_type": "stream",
     "text": [
      "Пятигорск         219\n",
      "Екатеринбург      204\n",
      "Ростов-на-Дону    198\n",
      "Краснодар         193\n",
      "Сочи              189\n",
      "Омск              183\n",
      "Тюмень            180\n",
      "Москва            168\n",
      "Name: city, dtype: int64\n"
     ]
    },
    {
     "data": {
      "text/plain": [
       "count          1534\n",
       "unique            8\n",
       "top       Пятигорск\n",
       "freq            219\n",
       "Name: city, dtype: object"
      ]
     },
     "metadata": {},
     "output_type": "display_data"
    },
    {
     "name": "stdout",
     "output_type": "stream",
     "text": [
      "168 219\n"
     ]
    },
    {
     "data": {
      "text/plain": [
       "Пятигорск         14.3\n",
       "Екатеринбург      13.3\n",
       "Ростов-на-Дону    12.9\n",
       "Краснодар         12.6\n",
       "Сочи              12.3\n",
       "Омск              11.9\n",
       "Тюмень            11.7\n",
       "Москва            11.0\n",
       "Name: city, dtype: float64"
      ]
     },
     "metadata": {},
     "output_type": "display_data"
    }
   ],
   "source": [
    "#частота встречаемости городов\n",
    "print(data1['city'].value_counts())\n",
    "display(data1['city'].describe())\n",
    "print( data1['city'].value_counts().min(), data1['city'].value_counts().max())\n",
    "display(round(data1['city'].value_counts() / len(data1) * 100, 1))\n",
    "\n"
   ]
  },
  {
   "cell_type": "code",
   "execution_count": 10,
   "id": "a10bf69f",
   "metadata": {},
   "outputs": [
    {
     "data": {
      "image/png": "[encoded data removed]",
      "text/plain": [
       "<Figure size 432x288 with 1 Axes>"
      ]
     },
     "metadata": {
      "needs_background": "light"
     },
     "output_type": "display_data"
    }
   ],
   "source": [
    "\n",
    "data1['city'].hist(bins = 8, xrot=15)\n",
    "\n",
    "plt.xlabel('Города')\n",
    "plt.ylabel('Количество записей о городах')\n",
    "plt.show()"
   ]
  },
  {
   "cell_type": "markdown",
   "id": "241b62ba",
   "metadata": {},
   "source": [
    "Было проведено исследование частоты встречаемости городов.  \n",
    "Чаще всего пользуются сервисом в Пятигорске - на него приходится 14.5% поездок  \n",
    "Реже всего пользуются сервисом в Москве - на неё приходится 11.0% поездок  "
   ]
  },
  {
   "cell_type": "code",
   "execution_count": 11,
   "id": "1afd7618",
   "metadata": {},
   "outputs": [
    {
     "data": {
      "text/plain": [
       "count     1534\n",
       "unique       2\n",
       "top       free\n",
       "freq       835\n",
       "Name: subscription_type, dtype: object"
      ]
     },
     "metadata": {},
     "output_type": "display_data"
    },
    {
     "data": {
      "text/plain": [
       "free     54.4\n",
       "ultra    45.6\n",
       "Name: subscription_type, dtype: float64"
      ]
     },
     "metadata": {},
     "output_type": "display_data"
    }
   ],
   "source": [
    "#соотношение пользователей с подпиской и без подписки\n",
    "\n",
    "display(data1['subscription_type'].describe())\n",
    "display(round(data1['subscription_type'].value_counts() / len(data1) * 100, 1))"
   ]
  },
  {
   "cell_type": "code",
   "execution_count": 12,
   "id": "337fe5a7",
   "metadata": {},
   "outputs": [
    {
     "data": {
      "image/png": "[encoded data removed]",
      "text/plain": [
       "<Figure size 432x288 with 1 Axes>"
      ]
     },
     "metadata": {
      "needs_background": "light"
     },
     "output_type": "display_data"
    }
   ],
   "source": [
    "data1['subscription_type'].hist(bins = 8, xrot=15)\n",
    "\n",
    "plt.xlabel('Тип подписки')\n",
    "plt.ylabel('Количество пользователей по тарифам')\n",
    "plt.show()"
   ]
  },
  {
   "cell_type": "markdown",
   "id": "ff41d810",
   "metadata": {},
   "source": [
    "Было проведено исследование польователей по типу подписки.  \n",
    "54.4% приходится на пользователей без подписки, у 45.6% пользователей есть подписка."
   ]
  },
  {
   "cell_type": "code",
   "execution_count": 13,
   "id": "7acb6f73",
   "metadata": {},
   "outputs": [
    {
     "data": {
      "text/plain": [
       "count    1534.000000\n",
       "mean       24.903520\n",
       "std         4.572367\n",
       "min        12.000000\n",
       "25%        22.000000\n",
       "50%        25.000000\n",
       "75%        28.000000\n",
       "max        43.000000\n",
       "Name: age, dtype: float64"
      ]
     },
     "metadata": {},
     "output_type": "display_data"
    },
    {
     "data": {
      "text/plain": [
       "25    9.5\n",
       "24    8.6\n",
       "26    8.5\n",
       "23    8.4\n",
       "27    7.8\n",
       "22    7.8\n",
       "28    7.3\n",
       "21    6.1\n",
       "20    4.6\n",
       "30    4.4\n",
       "29    4.4\n",
       "31    3.1\n",
       "19    3.1\n",
       "18    3.0\n",
       "32    2.7\n",
       "33    2.5\n",
       "17    1.7\n",
       "34    1.2\n",
       "16    1.2\n",
       "35    1.0\n",
       "15    0.8\n",
       "14    0.6\n",
       "13    0.5\n",
       "36    0.4\n",
       "12    0.3\n",
       "38    0.2\n",
       "37    0.1\n",
       "39    0.1\n",
       "43    0.1\n",
       "Name: age, dtype: float64"
      ]
     },
     "metadata": {},
     "output_type": "display_data"
    }
   ],
   "source": [
    "#возраст пользователей\n",
    "\n",
    "display(data1['age'].describe())\n",
    "display(round(data1['age'].value_counts() / len(data1) * 100, 1))\n"
   ]
  },
  {
   "cell_type": "code",
   "execution_count": 14,
   "id": "bbf6d51b",
   "metadata": {
    "scrolled": false
   },
   "outputs": [
    {
     "data": {
      "image/png": "[encoded data removed]",
      "text/plain": [
       "<Figure size 432x288 with 1 Axes>"
      ]
     },
     "metadata": {
      "needs_background": "light"
     },
     "output_type": "display_data"
    },
    {
     "data": {
      "text/plain": [
       "count    1534.000000\n",
       "mean       24.903520\n",
       "std         4.572367\n",
       "min        12.000000\n",
       "5%         17.000000\n",
       "25%        22.000000\n",
       "50%        25.000000\n",
       "75%        28.000000\n",
       "95%        33.000000\n",
       "99%        35.000000\n",
       "max        43.000000\n",
       "Name: age, dtype: float64"
      ]
     },
     "execution_count": 14,
     "metadata": {},
     "output_type": "execute_result"
    }
   ],
   "source": [
    "data1['age'].hist(bins = 30)\n",
    "plt.xlabel('Возраст')\n",
    "plt.ylabel('Количество пользователей по возрастам')\n",
    "plt.show()\n",
    "data1['age'].describe(percentiles=[0.05, 1/4, 1/2, 3/4, 0.95, 0.99])"
   ]
  },
  {
   "cell_type": "markdown",
   "id": "01ee82a9",
   "metadata": {},
   "source": [
    "Было проведено исследование пользователей по возрасту.  \n",
    "Вид распределения - нормальный.  \n",
    "Средное и медианное значение возраста близки и равны 25 годам.  \n",
    "Минимальный возраст = 12 лет  \n",
    "Максимальный = 43 года  \n",
    "99% пользователей возраста моложе 35. Старше этого возраста - редкие пользователи.  \n",
    "5% пользователей моложе 17 лет - эта возрастная категория редко пользуется сервисом."
   ]
  },
  {
   "cell_type": "code",
   "execution_count": 15,
   "id": "1e48b6de",
   "metadata": {},
   "outputs": [
    {
     "data": {
      "text/plain": [
       "count    18068.000000\n",
       "mean      3070.659976\n",
       "std       1116.831209\n",
       "min          0.855683\n",
       "5%         689.007279\n",
       "25%       2543.226360\n",
       "50%       3133.609994\n",
       "75%       3776.222735\n",
       "95%       4740.088596\n",
       "99%       5478.621528\n",
       "max       7211.007745\n",
       "Name: distance, dtype: float64"
      ]
     },
     "metadata": {},
     "output_type": "display_data"
    },
    {
     "data": {
      "image/png": "[encoded data removed]",
      "text/plain": [
       "<Figure size 432x288 with 1 Axes>"
      ]
     },
     "metadata": {
      "needs_background": "light"
     },
     "output_type": "display_data"
    }
   ],
   "source": [
    "#расстояние, которое пользователь преодолел за одну поездку\n",
    "\n",
    "display(data2['distance'].describe(percentiles=[0.05, 1/4, 1/2, 3/4, 0.95, 0.99]))\n",
    "data2['distance'].hist(bins = 100)\n",
    "plt.xlabel('Расстояние, м.')\n",
    "plt.ylabel('Количество поездок по расстоянию')\n",
    "\n",
    "plt.show()\n"
   ]
  },
  {
   "cell_type": "markdown",
   "id": "8ecd7153",
   "metadata": {},
   "source": [
    "Было проведено исследование расстояний (в метрах), которые преодолевают пользователи за время использования сервисом.    \n",
    "Вид распределения - нормальный с локальным укрупнением в промежутке от 0 до 1500 метров.  \n",
    "Среднее расстояние = 3070  \n",
    "Медианное расстояние = 3133  \n",
    "Минимальное = 1   \n",
    "Максимальное = 7211  \n",
    "5% поездок не преодолевают отметки 690 м. Это редкие короткие поездки.  \n",
    "99% расстояний меньше 5478 м. Всё что больше этой отметки - аномально долгие поездки.  \n",
    "Поездки по расстоянию разделились на короткие (до 1500 м.) и длинные (от 1500 до 7000 м.). При этом короткие поездки встречаются как у пользователей с подпиской так и без неё. Можно предположить, что такое разделение проявилось в следствие разницы в характере поездок: поездка может быть \"по делам\" (до магазина, до метро, до работы) и \"прогулочной\"."
   ]
  },
  {
   "cell_type": "code",
   "execution_count": 16,
   "id": "bee4f3c7",
   "metadata": {
    "scrolled": false
   },
   "outputs": [
    {
     "data": {
      "text/plain": [
       "count    18068.000000\n",
       "mean        17.805011\n",
       "std          6.091051\n",
       "min          0.500000\n",
       "5%           8.244528\n",
       "25%         13.597563\n",
       "50%         17.678395\n",
       "75%         21.724800\n",
       "95%         28.428730\n",
       "99%         32.503580\n",
       "max         40.823963\n",
       "Name: duration, dtype: float64"
      ]
     },
     "metadata": {},
     "output_type": "display_data"
    },
    {
     "data": {
      "image/png": "[encoded data removed]",
      "text/plain": [
       "<Figure size 432x288 with 1 Axes>"
      ]
     },
     "metadata": {
      "needs_background": "light"
     },
     "output_type": "display_data"
    }
   ],
   "source": [
    "#продолжительность поездок\n",
    "\n",
    "display(data2['duration'].describe(percentiles=[0.05, 1/4, 1/2, 3/4, 0.95, 0.99]))\n",
    "data2['duration'].hist(bins = 30)\n",
    "plt.xlabel('Продолжительность поездки, мин.')\n",
    "plt.ylabel('Количество поездок по продолжительности')\n",
    "plt.show()"
   ]
  },
  {
   "cell_type": "markdown",
   "id": "7255432d",
   "metadata": {},
   "source": [
    "Было проведено исследование времени (в минутах) пользования сервисом. \n",
    "Вид распределения - нормальный.  \n",
    "Среднее значение = 17.8  \n",
    "Медианное значение = 17.6  \n",
    "Минимальное = 0.5   \n",
    "Максимальное = 40.8  \n",
    "5% поездок не больше 8 минут. Это редкие короткие поездки.  \n",
    "99% поездок происходят менее 32 минут. Поездки дольше этой отметки считаются редкими долгими поездками."
   ]
  },
  {
   "cell_type": "markdown",
   "id": "5eba8c09",
   "metadata": {},
   "source": [
    "#### Вывод по исследованию данных  \n",
    "Было проведено исследование пользователей и поездок. В ходе исследования было выявлено:    \n",
    "    1) Чаще всего сервисом пользуются в Пятигорске (14.5% поездок). Реже - в Москве (11.0% поездок)    \n",
    "    2) 54.4%  пользователей не имеет подписки, у 45.6% пользователей есть подписка.  \n",
    "    3) В среднем сервисом пользуются люди 25 лет, большая часть пользователей возраста от 17 до 35 лет.   \n",
    "    4) Чаще всего пользователи преодолевают расстояние в 3070 м. Расстояния вне промежутка от 700 до 5500 м. являются редкими.  \n",
    "    5) Пользователи преодолевают расстояния в большей части от 8 до 32 минут, в реднем за 18 минут.   "
   ]
  },
  {
   "cell_type": "markdown",
   "id": "4ef51331",
   "metadata": {},
   "source": [
    "#### Шаг 4. Объединение данных"
   ]
  },
  {
   "cell_type": "code",
   "execution_count": 17,
   "id": "e8d2b8bd",
   "metadata": {},
   "outputs": [
    {
     "data": {
      "text/plain": [
       "1534"
      ]
     },
     "metadata": {},
     "output_type": "display_data"
    },
    {
     "data": {
      "text/plain": [
       "18068"
      ]
     },
     "metadata": {},
     "output_type": "display_data"
    },
    {
     "data": {
      "text/plain": [
       "2"
      ]
     },
     "metadata": {},
     "output_type": "display_data"
    },
    {
     "data": {
      "text/plain": [
       "0"
      ]
     },
     "metadata": {},
     "output_type": "display_data"
    },
    {
     "data": {
      "text/plain": [
       "0"
      ]
     },
     "metadata": {},
     "output_type": "display_data"
    },
    {
     "data": {
      "text/plain": [
       "0"
      ]
     },
     "metadata": {},
     "output_type": "display_data"
    }
   ],
   "source": [
    "display(len(data1), len(data2), len(data3))\n",
    "display(data1.duplicated().sum(), data2.duplicated().sum(), data3.duplicated().sum())"
   ]
  },
  {
   "cell_type": "code",
   "execution_count": 18,
   "id": "97eafdf8",
   "metadata": {},
   "outputs": [
    {
     "data": {
      "text/html": [
       "<div>\n",
       "<style scoped>\n",
       "    .dataframe tbody tr th:only-of-type {\n",
       "        vertical-align: middle;\n",
       "    }\n",
       "\n",
       "    .dataframe tbody tr th {\n",
       "        vertical-align: top;\n",
       "    }\n",
       "\n",
       "    .dataframe thead th {\n",
       "        text-align: right;\n",
       "    }\n",
       "</style>\n",
       "<table border=\"1\" class=\"dataframe\">\n",
       "  <thead>\n",
       "    <tr style=\"text-align: right;\">\n",
       "      <th></th>\n",
       "      <th>user_id</th>\n",
       "      <th>name</th>\n",
       "      <th>age</th>\n",
       "      <th>city</th>\n",
       "      <th>subscription_type</th>\n",
       "      <th>distance</th>\n",
       "      <th>duration</th>\n",
       "      <th>date</th>\n",
       "      <th>month</th>\n",
       "    </tr>\n",
       "  </thead>\n",
       "  <tbody>\n",
       "    <tr>\n",
       "      <th>0</th>\n",
       "      <td>1</td>\n",
       "      <td>Кира</td>\n",
       "      <td>22</td>\n",
       "      <td>Тюмень</td>\n",
       "      <td>ultra</td>\n",
       "      <td>4409.919140</td>\n",
       "      <td>25.599769</td>\n",
       "      <td>2021-01-01</td>\n",
       "      <td>1</td>\n",
       "    </tr>\n",
       "    <tr>\n",
       "      <th>1</th>\n",
       "      <td>1</td>\n",
       "      <td>Кира</td>\n",
       "      <td>22</td>\n",
       "      <td>Тюмень</td>\n",
       "      <td>ultra</td>\n",
       "      <td>2617.592153</td>\n",
       "      <td>15.816871</td>\n",
       "      <td>2021-01-18</td>\n",
       "      <td>1</td>\n",
       "    </tr>\n",
       "    <tr>\n",
       "      <th>2</th>\n",
       "      <td>1</td>\n",
       "      <td>Кира</td>\n",
       "      <td>22</td>\n",
       "      <td>Тюмень</td>\n",
       "      <td>ultra</td>\n",
       "      <td>754.159807</td>\n",
       "      <td>6.232113</td>\n",
       "      <td>2021-04-20</td>\n",
       "      <td>4</td>\n",
       "    </tr>\n",
       "    <tr>\n",
       "      <th>3</th>\n",
       "      <td>1</td>\n",
       "      <td>Кира</td>\n",
       "      <td>22</td>\n",
       "      <td>Тюмень</td>\n",
       "      <td>ultra</td>\n",
       "      <td>2694.783254</td>\n",
       "      <td>18.511000</td>\n",
       "      <td>2021-08-11</td>\n",
       "      <td>8</td>\n",
       "    </tr>\n",
       "    <tr>\n",
       "      <th>4</th>\n",
       "      <td>1</td>\n",
       "      <td>Кира</td>\n",
       "      <td>22</td>\n",
       "      <td>Тюмень</td>\n",
       "      <td>ultra</td>\n",
       "      <td>4028.687306</td>\n",
       "      <td>26.265803</td>\n",
       "      <td>2021-08-28</td>\n",
       "      <td>8</td>\n",
       "    </tr>\n",
       "    <tr>\n",
       "      <th>...</th>\n",
       "      <td>...</td>\n",
       "      <td>...</td>\n",
       "      <td>...</td>\n",
       "      <td>...</td>\n",
       "      <td>...</td>\n",
       "      <td>...</td>\n",
       "      <td>...</td>\n",
       "      <td>...</td>\n",
       "      <td>...</td>\n",
       "    </tr>\n",
       "    <tr>\n",
       "      <th>18063</th>\n",
       "      <td>1534</td>\n",
       "      <td>Альберт</td>\n",
       "      <td>25</td>\n",
       "      <td>Краснодар</td>\n",
       "      <td>free</td>\n",
       "      <td>3781.098080</td>\n",
       "      <td>19.822962</td>\n",
       "      <td>2021-11-04</td>\n",
       "      <td>11</td>\n",
       "    </tr>\n",
       "    <tr>\n",
       "      <th>18064</th>\n",
       "      <td>1534</td>\n",
       "      <td>Альберт</td>\n",
       "      <td>25</td>\n",
       "      <td>Краснодар</td>\n",
       "      <td>free</td>\n",
       "      <td>2840.423057</td>\n",
       "      <td>21.409799</td>\n",
       "      <td>2021-11-16</td>\n",
       "      <td>11</td>\n",
       "    </tr>\n",
       "    <tr>\n",
       "      <th>18065</th>\n",
       "      <td>1534</td>\n",
       "      <td>Альберт</td>\n",
       "      <td>25</td>\n",
       "      <td>Краснодар</td>\n",
       "      <td>free</td>\n",
       "      <td>3826.185507</td>\n",
       "      <td>18.435051</td>\n",
       "      <td>2021-11-18</td>\n",
       "      <td>11</td>\n",
       "    </tr>\n",
       "    <tr>\n",
       "      <th>18066</th>\n",
       "      <td>1534</td>\n",
       "      <td>Альберт</td>\n",
       "      <td>25</td>\n",
       "      <td>Краснодар</td>\n",
       "      <td>free</td>\n",
       "      <td>2902.308661</td>\n",
       "      <td>16.674362</td>\n",
       "      <td>2021-11-27</td>\n",
       "      <td>11</td>\n",
       "    </tr>\n",
       "    <tr>\n",
       "      <th>18067</th>\n",
       "      <td>1534</td>\n",
       "      <td>Альберт</td>\n",
       "      <td>25</td>\n",
       "      <td>Краснодар</td>\n",
       "      <td>free</td>\n",
       "      <td>2371.711192</td>\n",
       "      <td>15.893917</td>\n",
       "      <td>2021-12-29</td>\n",
       "      <td>12</td>\n",
       "    </tr>\n",
       "  </tbody>\n",
       "</table>\n",
       "<p>18068 rows × 9 columns</p>\n",
       "</div>"
      ],
      "text/plain": [
       "       user_id     name  age       city subscription_type     distance  \\\n",
       "0            1     Кира   22     Тюмень             ultra  4409.919140   \n",
       "1            1     Кира   22     Тюмень             ultra  2617.592153   \n",
       "2            1     Кира   22     Тюмень             ultra   754.159807   \n",
       "3            1     Кира   22     Тюмень             ultra  2694.783254   \n",
       "4            1     Кира   22     Тюмень             ultra  4028.687306   \n",
       "...        ...      ...  ...        ...               ...          ...   \n",
       "18063     1534  Альберт   25  Краснодар              free  3781.098080   \n",
       "18064     1534  Альберт   25  Краснодар              free  2840.423057   \n",
       "18065     1534  Альберт   25  Краснодар              free  3826.185507   \n",
       "18066     1534  Альберт   25  Краснодар              free  2902.308661   \n",
       "18067     1534  Альберт   25  Краснодар              free  2371.711192   \n",
       "\n",
       "        duration       date  month  \n",
       "0      25.599769 2021-01-01      1  \n",
       "1      15.816871 2021-01-18      1  \n",
       "2       6.232113 2021-04-20      4  \n",
       "3      18.511000 2021-08-11      8  \n",
       "4      26.265803 2021-08-28      8  \n",
       "...          ...        ...    ...  \n",
       "18063  19.822962 2021-11-04     11  \n",
       "18064  21.409799 2021-11-16     11  \n",
       "18065  18.435051 2021-11-18     11  \n",
       "18066  16.674362 2021-11-27     11  \n",
       "18067  15.893917 2021-12-29     12  \n",
       "\n",
       "[18068 rows x 9 columns]"
      ]
     },
     "metadata": {},
     "output_type": "display_data"
    },
    {
     "name": "stdout",
     "output_type": "stream",
     "text": [
      "0\n"
     ]
    },
    {
     "data": {
      "text/plain": [
       "18068"
      ]
     },
     "metadata": {},
     "output_type": "display_data"
    }
   ],
   "source": [
    "#объединение данных о пользователях, поездках и подписках в один датафрейм\n",
    "\n",
    "data_users_rides = data1.merge(data2, on='user_id', how='left')\n",
    "display(data_users_rides)\n",
    "print(data_users_rides.duplicated().sum())\n",
    "display(len(data_users_rides))"
   ]
  },
  {
   "cell_type": "code",
   "execution_count": 19,
   "id": "85a1c197",
   "metadata": {},
   "outputs": [
    {
     "name": "stdout",
     "output_type": "stream",
     "text": [
      "0\n"
     ]
    }
   ],
   "source": [
    "#задублировалось 320 записей. Удалим из датафрейма\n",
    "\n",
    "\n",
    "print(data_users_rides.duplicated().sum())"
   ]
  },
  {
   "cell_type": "code",
   "execution_count": 20,
   "id": "9aee8023",
   "metadata": {},
   "outputs": [
    {
     "data": {
      "text/html": [
       "<div>\n",
       "<style scoped>\n",
       "    .dataframe tbody tr th:only-of-type {\n",
       "        vertical-align: middle;\n",
       "    }\n",
       "\n",
       "    .dataframe tbody tr th {\n",
       "        vertical-align: top;\n",
       "    }\n",
       "\n",
       "    .dataframe thead th {\n",
       "        text-align: right;\n",
       "    }\n",
       "</style>\n",
       "<table border=\"1\" class=\"dataframe\">\n",
       "  <thead>\n",
       "    <tr style=\"text-align: right;\">\n",
       "      <th></th>\n",
       "      <th>user_id</th>\n",
       "      <th>name</th>\n",
       "      <th>age</th>\n",
       "      <th>city</th>\n",
       "      <th>subscription_type</th>\n",
       "      <th>distance</th>\n",
       "      <th>duration</th>\n",
       "      <th>date</th>\n",
       "      <th>month</th>\n",
       "      <th>minute_price</th>\n",
       "      <th>start_ride_price</th>\n",
       "      <th>subscription_fee</th>\n",
       "    </tr>\n",
       "  </thead>\n",
       "  <tbody>\n",
       "    <tr>\n",
       "      <th>0</th>\n",
       "      <td>1</td>\n",
       "      <td>Кира</td>\n",
       "      <td>22</td>\n",
       "      <td>Тюмень</td>\n",
       "      <td>ultra</td>\n",
       "      <td>4409.919140</td>\n",
       "      <td>25.599769</td>\n",
       "      <td>2021-01-01</td>\n",
       "      <td>1</td>\n",
       "      <td>6</td>\n",
       "      <td>0</td>\n",
       "      <td>199</td>\n",
       "    </tr>\n",
       "    <tr>\n",
       "      <th>1</th>\n",
       "      <td>1</td>\n",
       "      <td>Кира</td>\n",
       "      <td>22</td>\n",
       "      <td>Тюмень</td>\n",
       "      <td>ultra</td>\n",
       "      <td>2617.592153</td>\n",
       "      <td>15.816871</td>\n",
       "      <td>2021-01-18</td>\n",
       "      <td>1</td>\n",
       "      <td>6</td>\n",
       "      <td>0</td>\n",
       "      <td>199</td>\n",
       "    </tr>\n",
       "    <tr>\n",
       "      <th>2</th>\n",
       "      <td>1</td>\n",
       "      <td>Кира</td>\n",
       "      <td>22</td>\n",
       "      <td>Тюмень</td>\n",
       "      <td>ultra</td>\n",
       "      <td>754.159807</td>\n",
       "      <td>6.232113</td>\n",
       "      <td>2021-04-20</td>\n",
       "      <td>4</td>\n",
       "      <td>6</td>\n",
       "      <td>0</td>\n",
       "      <td>199</td>\n",
       "    </tr>\n",
       "    <tr>\n",
       "      <th>3</th>\n",
       "      <td>1</td>\n",
       "      <td>Кира</td>\n",
       "      <td>22</td>\n",
       "      <td>Тюмень</td>\n",
       "      <td>ultra</td>\n",
       "      <td>2694.783254</td>\n",
       "      <td>18.511000</td>\n",
       "      <td>2021-08-11</td>\n",
       "      <td>8</td>\n",
       "      <td>6</td>\n",
       "      <td>0</td>\n",
       "      <td>199</td>\n",
       "    </tr>\n",
       "    <tr>\n",
       "      <th>4</th>\n",
       "      <td>1</td>\n",
       "      <td>Кира</td>\n",
       "      <td>22</td>\n",
       "      <td>Тюмень</td>\n",
       "      <td>ultra</td>\n",
       "      <td>4028.687306</td>\n",
       "      <td>26.265803</td>\n",
       "      <td>2021-08-28</td>\n",
       "      <td>8</td>\n",
       "      <td>6</td>\n",
       "      <td>0</td>\n",
       "      <td>199</td>\n",
       "    </tr>\n",
       "    <tr>\n",
       "      <th>5</th>\n",
       "      <td>1</td>\n",
       "      <td>Кира</td>\n",
       "      <td>22</td>\n",
       "      <td>Тюмень</td>\n",
       "      <td>ultra</td>\n",
       "      <td>2770.890808</td>\n",
       "      <td>16.650138</td>\n",
       "      <td>2021-10-09</td>\n",
       "      <td>10</td>\n",
       "      <td>6</td>\n",
       "      <td>0</td>\n",
       "      <td>199</td>\n",
       "    </tr>\n",
       "    <tr>\n",
       "      <th>6</th>\n",
       "      <td>1</td>\n",
       "      <td>Кира</td>\n",
       "      <td>22</td>\n",
       "      <td>Тюмень</td>\n",
       "      <td>ultra</td>\n",
       "      <td>3039.020292</td>\n",
       "      <td>14.927879</td>\n",
       "      <td>2021-10-19</td>\n",
       "      <td>10</td>\n",
       "      <td>6</td>\n",
       "      <td>0</td>\n",
       "      <td>199</td>\n",
       "    </tr>\n",
       "    <tr>\n",
       "      <th>7</th>\n",
       "      <td>1</td>\n",
       "      <td>Кира</td>\n",
       "      <td>22</td>\n",
       "      <td>Тюмень</td>\n",
       "      <td>ultra</td>\n",
       "      <td>2842.118050</td>\n",
       "      <td>23.117468</td>\n",
       "      <td>2021-11-06</td>\n",
       "      <td>11</td>\n",
       "      <td>6</td>\n",
       "      <td>0</td>\n",
       "      <td>199</td>\n",
       "    </tr>\n",
       "    <tr>\n",
       "      <th>8</th>\n",
       "      <td>1</td>\n",
       "      <td>Кира</td>\n",
       "      <td>22</td>\n",
       "      <td>Тюмень</td>\n",
       "      <td>ultra</td>\n",
       "      <td>3412.690668</td>\n",
       "      <td>15.238072</td>\n",
       "      <td>2021-11-14</td>\n",
       "      <td>11</td>\n",
       "      <td>6</td>\n",
       "      <td>0</td>\n",
       "      <td>199</td>\n",
       "    </tr>\n",
       "    <tr>\n",
       "      <th>9</th>\n",
       "      <td>1</td>\n",
       "      <td>Кира</td>\n",
       "      <td>22</td>\n",
       "      <td>Тюмень</td>\n",
       "      <td>ultra</td>\n",
       "      <td>748.690645</td>\n",
       "      <td>15.041884</td>\n",
       "      <td>2021-11-22</td>\n",
       "      <td>11</td>\n",
       "      <td>6</td>\n",
       "      <td>0</td>\n",
       "      <td>199</td>\n",
       "    </tr>\n",
       "  </tbody>\n",
       "</table>\n",
       "</div>"
      ],
      "text/plain": [
       "   user_id  name  age    city subscription_type     distance   duration  \\\n",
       "0        1  Кира   22  Тюмень             ultra  4409.919140  25.599769   \n",
       "1        1  Кира   22  Тюмень             ultra  2617.592153  15.816871   \n",
       "2        1  Кира   22  Тюмень             ultra   754.159807   6.232113   \n",
       "3        1  Кира   22  Тюмень             ultra  2694.783254  18.511000   \n",
       "4        1  Кира   22  Тюмень             ultra  4028.687306  26.265803   \n",
       "5        1  Кира   22  Тюмень             ultra  2770.890808  16.650138   \n",
       "6        1  Кира   22  Тюмень             ultra  3039.020292  14.927879   \n",
       "7        1  Кира   22  Тюмень             ultra  2842.118050  23.117468   \n",
       "8        1  Кира   22  Тюмень             ultra  3412.690668  15.238072   \n",
       "9        1  Кира   22  Тюмень             ultra   748.690645  15.041884   \n",
       "\n",
       "        date  month  minute_price  start_ride_price  subscription_fee  \n",
       "0 2021-01-01      1             6                 0               199  \n",
       "1 2021-01-18      1             6                 0               199  \n",
       "2 2021-04-20      4             6                 0               199  \n",
       "3 2021-08-11      8             6                 0               199  \n",
       "4 2021-08-28      8             6                 0               199  \n",
       "5 2021-10-09     10             6                 0               199  \n",
       "6 2021-10-19     10             6                 0               199  \n",
       "7 2021-11-06     11             6                 0               199  \n",
       "8 2021-11-14     11             6                 0               199  \n",
       "9 2021-11-22     11             6                 0               199  "
      ]
     },
     "metadata": {},
     "output_type": "display_data"
    },
    {
     "data": {
      "text/plain": [
       "18068"
      ]
     },
     "metadata": {},
     "output_type": "display_data"
    },
    {
     "data": {
      "text/plain": [
       "0"
      ]
     },
     "metadata": {},
     "output_type": "display_data"
    },
    {
     "data": {
      "text/plain": [
       "user_id              0\n",
       "name                 0\n",
       "age                  0\n",
       "city                 0\n",
       "subscription_type    0\n",
       "distance             0\n",
       "duration             0\n",
       "date                 0\n",
       "month                0\n",
       "minute_price         0\n",
       "start_ride_price     0\n",
       "subscription_fee     0\n",
       "dtype: int64"
      ]
     },
     "metadata": {},
     "output_type": "display_data"
    }
   ],
   "source": [
    "data = data_users_rides.merge(data3, on='subscription_type', how='left')\n",
    "display(data.head(10))\n",
    "\n",
    "display()\n",
    "display(len(data), data.duplicated().sum(), data.isna().sum())"
   ]
  },
  {
   "cell_type": "markdown",
   "id": "f805451c",
   "metadata": {},
   "source": [
    "Три таблицы совмещены в одну сводную. Была проведена проверка размерности таблицы до и после слияния, наличия дублей и пропусков после объединения. Размерность соотносится с исходной, проверка на наличие дубле и пропусков дала отрицательный результат."
   ]
  },
  {
   "cell_type": "code",
   "execution_count": 21,
   "id": "fd63a4b8",
   "metadata": {},
   "outputs": [
    {
     "data": {
      "text/html": [
       "<div>\n",
       "<style scoped>\n",
       "    .dataframe tbody tr th:only-of-type {\n",
       "        vertical-align: middle;\n",
       "    }\n",
       "\n",
       "    .dataframe tbody tr th {\n",
       "        vertical-align: top;\n",
       "    }\n",
       "\n",
       "    .dataframe thead th {\n",
       "        text-align: right;\n",
       "    }\n",
       "</style>\n",
       "<table border=\"1\" class=\"dataframe\">\n",
       "  <thead>\n",
       "    <tr style=\"text-align: right;\">\n",
       "      <th></th>\n",
       "      <th>user_id</th>\n",
       "      <th>name</th>\n",
       "      <th>age</th>\n",
       "      <th>city</th>\n",
       "      <th>subscription_type</th>\n",
       "      <th>distance</th>\n",
       "      <th>duration</th>\n",
       "      <th>date</th>\n",
       "      <th>month</th>\n",
       "      <th>minute_price</th>\n",
       "      <th>start_ride_price</th>\n",
       "      <th>subscription_fee</th>\n",
       "    </tr>\n",
       "  </thead>\n",
       "  <tbody>\n",
       "    <tr>\n",
       "      <th>0</th>\n",
       "      <td>1</td>\n",
       "      <td>Кира</td>\n",
       "      <td>22</td>\n",
       "      <td>Тюмень</td>\n",
       "      <td>ultra</td>\n",
       "      <td>4410</td>\n",
       "      <td>26</td>\n",
       "      <td>2021-01-01</td>\n",
       "      <td>1</td>\n",
       "      <td>6</td>\n",
       "      <td>0</td>\n",
       "      <td>199</td>\n",
       "    </tr>\n",
       "    <tr>\n",
       "      <th>1</th>\n",
       "      <td>1</td>\n",
       "      <td>Кира</td>\n",
       "      <td>22</td>\n",
       "      <td>Тюмень</td>\n",
       "      <td>ultra</td>\n",
       "      <td>2618</td>\n",
       "      <td>16</td>\n",
       "      <td>2021-01-18</td>\n",
       "      <td>1</td>\n",
       "      <td>6</td>\n",
       "      <td>0</td>\n",
       "      <td>199</td>\n",
       "    </tr>\n",
       "    <tr>\n",
       "      <th>2</th>\n",
       "      <td>1</td>\n",
       "      <td>Кира</td>\n",
       "      <td>22</td>\n",
       "      <td>Тюмень</td>\n",
       "      <td>ultra</td>\n",
       "      <td>755</td>\n",
       "      <td>7</td>\n",
       "      <td>2021-04-20</td>\n",
       "      <td>4</td>\n",
       "      <td>6</td>\n",
       "      <td>0</td>\n",
       "      <td>199</td>\n",
       "    </tr>\n",
       "    <tr>\n",
       "      <th>3</th>\n",
       "      <td>1</td>\n",
       "      <td>Кира</td>\n",
       "      <td>22</td>\n",
       "      <td>Тюмень</td>\n",
       "      <td>ultra</td>\n",
       "      <td>2695</td>\n",
       "      <td>19</td>\n",
       "      <td>2021-08-11</td>\n",
       "      <td>8</td>\n",
       "      <td>6</td>\n",
       "      <td>0</td>\n",
       "      <td>199</td>\n",
       "    </tr>\n",
       "    <tr>\n",
       "      <th>4</th>\n",
       "      <td>1</td>\n",
       "      <td>Кира</td>\n",
       "      <td>22</td>\n",
       "      <td>Тюмень</td>\n",
       "      <td>ultra</td>\n",
       "      <td>4029</td>\n",
       "      <td>27</td>\n",
       "      <td>2021-08-28</td>\n",
       "      <td>8</td>\n",
       "      <td>6</td>\n",
       "      <td>0</td>\n",
       "      <td>199</td>\n",
       "    </tr>\n",
       "    <tr>\n",
       "      <th>5</th>\n",
       "      <td>1</td>\n",
       "      <td>Кира</td>\n",
       "      <td>22</td>\n",
       "      <td>Тюмень</td>\n",
       "      <td>ultra</td>\n",
       "      <td>2771</td>\n",
       "      <td>17</td>\n",
       "      <td>2021-10-09</td>\n",
       "      <td>10</td>\n",
       "      <td>6</td>\n",
       "      <td>0</td>\n",
       "      <td>199</td>\n",
       "    </tr>\n",
       "    <tr>\n",
       "      <th>6</th>\n",
       "      <td>1</td>\n",
       "      <td>Кира</td>\n",
       "      <td>22</td>\n",
       "      <td>Тюмень</td>\n",
       "      <td>ultra</td>\n",
       "      <td>3040</td>\n",
       "      <td>15</td>\n",
       "      <td>2021-10-19</td>\n",
       "      <td>10</td>\n",
       "      <td>6</td>\n",
       "      <td>0</td>\n",
       "      <td>199</td>\n",
       "    </tr>\n",
       "    <tr>\n",
       "      <th>7</th>\n",
       "      <td>1</td>\n",
       "      <td>Кира</td>\n",
       "      <td>22</td>\n",
       "      <td>Тюмень</td>\n",
       "      <td>ultra</td>\n",
       "      <td>2843</td>\n",
       "      <td>24</td>\n",
       "      <td>2021-11-06</td>\n",
       "      <td>11</td>\n",
       "      <td>6</td>\n",
       "      <td>0</td>\n",
       "      <td>199</td>\n",
       "    </tr>\n",
       "    <tr>\n",
       "      <th>8</th>\n",
       "      <td>1</td>\n",
       "      <td>Кира</td>\n",
       "      <td>22</td>\n",
       "      <td>Тюмень</td>\n",
       "      <td>ultra</td>\n",
       "      <td>3413</td>\n",
       "      <td>16</td>\n",
       "      <td>2021-11-14</td>\n",
       "      <td>11</td>\n",
       "      <td>6</td>\n",
       "      <td>0</td>\n",
       "      <td>199</td>\n",
       "    </tr>\n",
       "    <tr>\n",
       "      <th>9</th>\n",
       "      <td>1</td>\n",
       "      <td>Кира</td>\n",
       "      <td>22</td>\n",
       "      <td>Тюмень</td>\n",
       "      <td>ultra</td>\n",
       "      <td>749</td>\n",
       "      <td>16</td>\n",
       "      <td>2021-11-22</td>\n",
       "      <td>11</td>\n",
       "      <td>6</td>\n",
       "      <td>0</td>\n",
       "      <td>199</td>\n",
       "    </tr>\n",
       "  </tbody>\n",
       "</table>\n",
       "</div>"
      ],
      "text/plain": [
       "   user_id  name  age    city subscription_type  distance  duration  \\\n",
       "0        1  Кира   22  Тюмень             ultra      4410        26   \n",
       "1        1  Кира   22  Тюмень             ultra      2618        16   \n",
       "2        1  Кира   22  Тюмень             ultra       755         7   \n",
       "3        1  Кира   22  Тюмень             ultra      2695        19   \n",
       "4        1  Кира   22  Тюмень             ultra      4029        27   \n",
       "5        1  Кира   22  Тюмень             ultra      2771        17   \n",
       "6        1  Кира   22  Тюмень             ultra      3040        15   \n",
       "7        1  Кира   22  Тюмень             ultra      2843        24   \n",
       "8        1  Кира   22  Тюмень             ultra      3413        16   \n",
       "9        1  Кира   22  Тюмень             ultra       749        16   \n",
       "\n",
       "        date  month  minute_price  start_ride_price  subscription_fee  \n",
       "0 2021-01-01      1             6                 0               199  \n",
       "1 2021-01-18      1             6                 0               199  \n",
       "2 2021-04-20      4             6                 0               199  \n",
       "3 2021-08-11      8             6                 0               199  \n",
       "4 2021-08-28      8             6                 0               199  \n",
       "5 2021-10-09     10             6                 0               199  \n",
       "6 2021-10-19     10             6                 0               199  \n",
       "7 2021-11-06     11             6                 0               199  \n",
       "8 2021-11-14     11             6                 0               199  \n",
       "9 2021-11-22     11             6                 0               199  "
      ]
     },
     "metadata": {},
     "output_type": "display_data"
    }
   ],
   "source": [
    "#округление\n",
    "#изменение типа данных\n",
    "data['duration'] = np.ceil(data['duration'])\n",
    "data['distance'] = np.ceil(data['distance'])\n",
    "data['duration'] = data['duration'].astype('int64')\n",
    "data['distance'] = data['distance'].astype('int64')\n",
    "\n",
    "\n",
    "\n",
    "display(data.head(10))"
   ]
  },
  {
   "cell_type": "code",
   "execution_count": null,
   "id": "4b976d5b",
   "metadata": {},
   "outputs": [],
   "source": []
  },
  {
   "cell_type": "code",
   "execution_count": 22,
   "id": "5c1b9577",
   "metadata": {},
   "outputs": [
    {
     "data": {
      "text/html": [
       "<div>\n",
       "<style scoped>\n",
       "    .dataframe tbody tr th:only-of-type {\n",
       "        vertical-align: middle;\n",
       "    }\n",
       "\n",
       "    .dataframe tbody tr th {\n",
       "        vertical-align: top;\n",
       "    }\n",
       "\n",
       "    .dataframe thead th {\n",
       "        text-align: right;\n",
       "    }\n",
       "</style>\n",
       "<table border=\"1\" class=\"dataframe\">\n",
       "  <thead>\n",
       "    <tr style=\"text-align: right;\">\n",
       "      <th></th>\n",
       "      <th>user_id</th>\n",
       "      <th>name</th>\n",
       "      <th>age</th>\n",
       "      <th>city</th>\n",
       "      <th>subscription_type</th>\n",
       "      <th>distance</th>\n",
       "      <th>duration</th>\n",
       "      <th>date</th>\n",
       "      <th>month</th>\n",
       "      <th>minute_price</th>\n",
       "      <th>start_ride_price</th>\n",
       "      <th>subscription_fee</th>\n",
       "    </tr>\n",
       "  </thead>\n",
       "  <tbody>\n",
       "    <tr>\n",
       "      <th>0</th>\n",
       "      <td>1</td>\n",
       "      <td>Кира</td>\n",
       "      <td>22</td>\n",
       "      <td>Тюмень</td>\n",
       "      <td>ultra</td>\n",
       "      <td>4410</td>\n",
       "      <td>26</td>\n",
       "      <td>2021-01-01</td>\n",
       "      <td>1</td>\n",
       "      <td>6</td>\n",
       "      <td>0</td>\n",
       "      <td>199</td>\n",
       "    </tr>\n",
       "    <tr>\n",
       "      <th>1</th>\n",
       "      <td>1</td>\n",
       "      <td>Кира</td>\n",
       "      <td>22</td>\n",
       "      <td>Тюмень</td>\n",
       "      <td>ultra</td>\n",
       "      <td>2618</td>\n",
       "      <td>16</td>\n",
       "      <td>2021-01-18</td>\n",
       "      <td>1</td>\n",
       "      <td>6</td>\n",
       "      <td>0</td>\n",
       "      <td>199</td>\n",
       "    </tr>\n",
       "    <tr>\n",
       "      <th>2</th>\n",
       "      <td>1</td>\n",
       "      <td>Кира</td>\n",
       "      <td>22</td>\n",
       "      <td>Тюмень</td>\n",
       "      <td>ultra</td>\n",
       "      <td>755</td>\n",
       "      <td>7</td>\n",
       "      <td>2021-04-20</td>\n",
       "      <td>4</td>\n",
       "      <td>6</td>\n",
       "      <td>0</td>\n",
       "      <td>199</td>\n",
       "    </tr>\n",
       "    <tr>\n",
       "      <th>3</th>\n",
       "      <td>1</td>\n",
       "      <td>Кира</td>\n",
       "      <td>22</td>\n",
       "      <td>Тюмень</td>\n",
       "      <td>ultra</td>\n",
       "      <td>2695</td>\n",
       "      <td>19</td>\n",
       "      <td>2021-08-11</td>\n",
       "      <td>8</td>\n",
       "      <td>6</td>\n",
       "      <td>0</td>\n",
       "      <td>199</td>\n",
       "    </tr>\n",
       "    <tr>\n",
       "      <th>4</th>\n",
       "      <td>1</td>\n",
       "      <td>Кира</td>\n",
       "      <td>22</td>\n",
       "      <td>Тюмень</td>\n",
       "      <td>ultra</td>\n",
       "      <td>4029</td>\n",
       "      <td>27</td>\n",
       "      <td>2021-08-28</td>\n",
       "      <td>8</td>\n",
       "      <td>6</td>\n",
       "      <td>0</td>\n",
       "      <td>199</td>\n",
       "    </tr>\n",
       "    <tr>\n",
       "      <th>5</th>\n",
       "      <td>1</td>\n",
       "      <td>Кира</td>\n",
       "      <td>22</td>\n",
       "      <td>Тюмень</td>\n",
       "      <td>ultra</td>\n",
       "      <td>2771</td>\n",
       "      <td>17</td>\n",
       "      <td>2021-10-09</td>\n",
       "      <td>10</td>\n",
       "      <td>6</td>\n",
       "      <td>0</td>\n",
       "      <td>199</td>\n",
       "    </tr>\n",
       "    <tr>\n",
       "      <th>6</th>\n",
       "      <td>1</td>\n",
       "      <td>Кира</td>\n",
       "      <td>22</td>\n",
       "      <td>Тюмень</td>\n",
       "      <td>ultra</td>\n",
       "      <td>3040</td>\n",
       "      <td>15</td>\n",
       "      <td>2021-10-19</td>\n",
       "      <td>10</td>\n",
       "      <td>6</td>\n",
       "      <td>0</td>\n",
       "      <td>199</td>\n",
       "    </tr>\n",
       "    <tr>\n",
       "      <th>7</th>\n",
       "      <td>1</td>\n",
       "      <td>Кира</td>\n",
       "      <td>22</td>\n",
       "      <td>Тюмень</td>\n",
       "      <td>ultra</td>\n",
       "      <td>2843</td>\n",
       "      <td>24</td>\n",
       "      <td>2021-11-06</td>\n",
       "      <td>11</td>\n",
       "      <td>6</td>\n",
       "      <td>0</td>\n",
       "      <td>199</td>\n",
       "    </tr>\n",
       "    <tr>\n",
       "      <th>8</th>\n",
       "      <td>1</td>\n",
       "      <td>Кира</td>\n",
       "      <td>22</td>\n",
       "      <td>Тюмень</td>\n",
       "      <td>ultra</td>\n",
       "      <td>3413</td>\n",
       "      <td>16</td>\n",
       "      <td>2021-11-14</td>\n",
       "      <td>11</td>\n",
       "      <td>6</td>\n",
       "      <td>0</td>\n",
       "      <td>199</td>\n",
       "    </tr>\n",
       "    <tr>\n",
       "      <th>9</th>\n",
       "      <td>1</td>\n",
       "      <td>Кира</td>\n",
       "      <td>22</td>\n",
       "      <td>Тюмень</td>\n",
       "      <td>ultra</td>\n",
       "      <td>749</td>\n",
       "      <td>16</td>\n",
       "      <td>2021-11-22</td>\n",
       "      <td>11</td>\n",
       "      <td>6</td>\n",
       "      <td>0</td>\n",
       "      <td>199</td>\n",
       "    </tr>\n",
       "  </tbody>\n",
       "</table>\n",
       "</div>"
      ],
      "text/plain": [
       "   user_id  name  age    city subscription_type  distance  duration  \\\n",
       "0        1  Кира   22  Тюмень             ultra      4410        26   \n",
       "1        1  Кира   22  Тюмень             ultra      2618        16   \n",
       "2        1  Кира   22  Тюмень             ultra       755         7   \n",
       "3        1  Кира   22  Тюмень             ultra      2695        19   \n",
       "4        1  Кира   22  Тюмень             ultra      4029        27   \n",
       "5        1  Кира   22  Тюмень             ultra      2771        17   \n",
       "6        1  Кира   22  Тюмень             ultra      3040        15   \n",
       "7        1  Кира   22  Тюмень             ultra      2843        24   \n",
       "8        1  Кира   22  Тюмень             ultra      3413        16   \n",
       "9        1  Кира   22  Тюмень             ultra       749        16   \n",
       "\n",
       "        date  month  minute_price  start_ride_price  subscription_fee  \n",
       "0 2021-01-01      1             6                 0               199  \n",
       "1 2021-01-18      1             6                 0               199  \n",
       "2 2021-04-20      4             6                 0               199  \n",
       "3 2021-08-11      8             6                 0               199  \n",
       "4 2021-08-28      8             6                 0               199  \n",
       "5 2021-10-09     10             6                 0               199  \n",
       "6 2021-10-19     10             6                 0               199  \n",
       "7 2021-11-06     11             6                 0               199  \n",
       "8 2021-11-14     11             6                 0               199  \n",
       "9 2021-11-22     11             6                 0               199  "
      ]
     },
     "metadata": {},
     "output_type": "display_data"
    },
    {
     "data": {
      "text/plain": [
       "6500"
      ]
     },
     "metadata": {},
     "output_type": "display_data"
    },
    {
     "data": {
      "text/plain": [
       "0"
      ]
     },
     "metadata": {},
     "output_type": "display_data"
    },
    {
     "data": {
      "text/plain": [
       "user_id              0\n",
       "name                 0\n",
       "age                  0\n",
       "city                 0\n",
       "subscription_type    0\n",
       "distance             0\n",
       "duration             0\n",
       "date                 0\n",
       "month                0\n",
       "minute_price         0\n",
       "start_ride_price     0\n",
       "subscription_fee     0\n",
       "dtype: int64"
      ]
     },
     "metadata": {},
     "output_type": "display_data"
    }
   ],
   "source": [
    "#таблица с данными о пользователях с подпиской\n",
    "data_ultra = data.query('subscription_type == [\"ultra\"]')\n",
    "display(data_ultra.head(10))\n",
    "#проверка на пропуски, дубли, размерность\n",
    "display(len(data_ultra), data_ultra.duplicated().sum(), data_ultra.isna().sum())"
   ]
  },
  {
   "cell_type": "code",
   "execution_count": 23,
   "id": "72f43831",
   "metadata": {},
   "outputs": [
    {
     "data": {
      "text/plain": [
       "count    6500.000000\n",
       "mean       19.037692\n",
       "std         5.577439\n",
       "min         4.000000\n",
       "25%        15.000000\n",
       "50%        19.000000\n",
       "75%        22.000000\n",
       "max        41.000000\n",
       "Name: duration, dtype: float64"
      ]
     },
     "metadata": {},
     "output_type": "display_data"
    },
    {
     "data": {
      "image/png": "[encoded data removed]",
      "text/plain": [
       "<Figure size 432x288 with 1 Axes>"
      ]
     },
     "metadata": {
      "needs_background": "light"
     },
     "output_type": "display_data"
    },
    {
     "data": {
      "text/plain": [
       "count    6500.000000\n",
       "mean     3115.949231\n",
       "std       836.894838\n",
       "min       245.000000\n",
       "25%      2786.000000\n",
       "50%      3149.000000\n",
       "75%      3561.000000\n",
       "max      5700.000000\n",
       "Name: distance, dtype: float64"
      ]
     },
     "metadata": {},
     "output_type": "display_data"
    },
    {
     "data": {
      "image/png": "[encoded data removed]",
      "text/plain": [
       "<Figure size 432x288 with 1 Axes>"
      ]
     },
     "metadata": {
      "needs_background": "light"
     },
     "output_type": "display_data"
    }
   ],
   "source": [
    "#визуализация расстояния и времени поездок для пользователей с подпиской\n",
    "\n",
    "display(data_ultra['duration'].describe())\n",
    "data_ultra['duration'].hist(bins = 40)\n",
    "plt.xlabel('Продолжительность поездки, мин.')\n",
    "plt.ylabel('Количество поездок по продолжительности')\n",
    "plt.show()\n",
    "\n",
    "\n",
    "display(data_ultra['distance'].describe())\n",
    "data_ultra['distance'].hist(bins = 50)\n",
    "plt.xlabel('Расстояние, м.')\n",
    "plt.ylabel('Количество поездок по расстоянию')\n",
    "plt.show()"
   ]
  },
  {
   "cell_type": "markdown",
   "id": "56156de5",
   "metadata": {},
   "source": [
    "Было проведено исследование параметров времени (в минутах) и расстояний (в метрах) пользователей с подпиской.  \n",
    "В обоих случаях разброс данных не велик, средние и медианные значения практически равны.  \n",
    "Исследование времени :  \n",
    "Среднее значение = 18  \n",
    "Медианное значение = 18  \n",
    "Минимальное = 3  \n",
    "Максимальное = 40  \n",
    "\n",
    "Исследование расстояния :     \n",
    "Среднее значение = 3114.9  \n",
    "Медианное значение = 3148  \n",
    "Минимальное = 244  \n",
    "Максимальное = 5699  "
   ]
  },
  {
   "cell_type": "code",
   "execution_count": null,
   "id": "7e0d7c9c",
   "metadata": {},
   "outputs": [],
   "source": []
  },
  {
   "cell_type": "code",
   "execution_count": 24,
   "id": "1b779571",
   "metadata": {},
   "outputs": [
    {
     "data": {
      "text/html": [
       "<div>\n",
       "<style scoped>\n",
       "    .dataframe tbody tr th:only-of-type {\n",
       "        vertical-align: middle;\n",
       "    }\n",
       "\n",
       "    .dataframe tbody tr th {\n",
       "        vertical-align: top;\n",
       "    }\n",
       "\n",
       "    .dataframe thead th {\n",
       "        text-align: right;\n",
       "    }\n",
       "</style>\n",
       "<table border=\"1\" class=\"dataframe\">\n",
       "  <thead>\n",
       "    <tr style=\"text-align: right;\">\n",
       "      <th></th>\n",
       "      <th>user_id</th>\n",
       "      <th>name</th>\n",
       "      <th>age</th>\n",
       "      <th>city</th>\n",
       "      <th>subscription_type</th>\n",
       "      <th>distance</th>\n",
       "      <th>duration</th>\n",
       "      <th>date</th>\n",
       "      <th>month</th>\n",
       "      <th>minute_price</th>\n",
       "      <th>start_ride_price</th>\n",
       "      <th>subscription_fee</th>\n",
       "    </tr>\n",
       "  </thead>\n",
       "  <tbody>\n",
       "    <tr>\n",
       "      <th>6500</th>\n",
       "      <td>700</td>\n",
       "      <td>Айдар</td>\n",
       "      <td>22</td>\n",
       "      <td>Омск</td>\n",
       "      <td>free</td>\n",
       "      <td>2516</td>\n",
       "      <td>15</td>\n",
       "      <td>2021-01-02</td>\n",
       "      <td>1</td>\n",
       "      <td>8</td>\n",
       "      <td>50</td>\n",
       "      <td>0</td>\n",
       "    </tr>\n",
       "    <tr>\n",
       "      <th>6501</th>\n",
       "      <td>700</td>\n",
       "      <td>Айдар</td>\n",
       "      <td>22</td>\n",
       "      <td>Омск</td>\n",
       "      <td>free</td>\n",
       "      <td>847</td>\n",
       "      <td>17</td>\n",
       "      <td>2021-02-01</td>\n",
       "      <td>2</td>\n",
       "      <td>8</td>\n",
       "      <td>50</td>\n",
       "      <td>0</td>\n",
       "    </tr>\n",
       "    <tr>\n",
       "      <th>6502</th>\n",
       "      <td>700</td>\n",
       "      <td>Айдар</td>\n",
       "      <td>22</td>\n",
       "      <td>Омск</td>\n",
       "      <td>free</td>\n",
       "      <td>4005</td>\n",
       "      <td>21</td>\n",
       "      <td>2021-02-04</td>\n",
       "      <td>2</td>\n",
       "      <td>8</td>\n",
       "      <td>50</td>\n",
       "      <td>0</td>\n",
       "    </tr>\n",
       "    <tr>\n",
       "      <th>6503</th>\n",
       "      <td>700</td>\n",
       "      <td>Айдар</td>\n",
       "      <td>22</td>\n",
       "      <td>Омск</td>\n",
       "      <td>free</td>\n",
       "      <td>1206</td>\n",
       "      <td>10</td>\n",
       "      <td>2021-02-10</td>\n",
       "      <td>2</td>\n",
       "      <td>8</td>\n",
       "      <td>50</td>\n",
       "      <td>0</td>\n",
       "    </tr>\n",
       "    <tr>\n",
       "      <th>6504</th>\n",
       "      <td>700</td>\n",
       "      <td>Айдар</td>\n",
       "      <td>22</td>\n",
       "      <td>Омск</td>\n",
       "      <td>free</td>\n",
       "      <td>3048</td>\n",
       "      <td>18</td>\n",
       "      <td>2021-02-14</td>\n",
       "      <td>2</td>\n",
       "      <td>8</td>\n",
       "      <td>50</td>\n",
       "      <td>0</td>\n",
       "    </tr>\n",
       "    <tr>\n",
       "      <th>6505</th>\n",
       "      <td>700</td>\n",
       "      <td>Айдар</td>\n",
       "      <td>22</td>\n",
       "      <td>Омск</td>\n",
       "      <td>free</td>\n",
       "      <td>4343</td>\n",
       "      <td>23</td>\n",
       "      <td>2021-02-23</td>\n",
       "      <td>2</td>\n",
       "      <td>8</td>\n",
       "      <td>50</td>\n",
       "      <td>0</td>\n",
       "    </tr>\n",
       "    <tr>\n",
       "      <th>6506</th>\n",
       "      <td>700</td>\n",
       "      <td>Айдар</td>\n",
       "      <td>22</td>\n",
       "      <td>Омск</td>\n",
       "      <td>free</td>\n",
       "      <td>3799</td>\n",
       "      <td>19</td>\n",
       "      <td>2021-03-03</td>\n",
       "      <td>3</td>\n",
       "      <td>8</td>\n",
       "      <td>50</td>\n",
       "      <td>0</td>\n",
       "    </tr>\n",
       "    <tr>\n",
       "      <th>6507</th>\n",
       "      <td>700</td>\n",
       "      <td>Айдар</td>\n",
       "      <td>22</td>\n",
       "      <td>Омск</td>\n",
       "      <td>free</td>\n",
       "      <td>2985</td>\n",
       "      <td>16</td>\n",
       "      <td>2021-04-09</td>\n",
       "      <td>4</td>\n",
       "      <td>8</td>\n",
       "      <td>50</td>\n",
       "      <td>0</td>\n",
       "    </tr>\n",
       "    <tr>\n",
       "      <th>6508</th>\n",
       "      <td>700</td>\n",
       "      <td>Айдар</td>\n",
       "      <td>22</td>\n",
       "      <td>Омск</td>\n",
       "      <td>free</td>\n",
       "      <td>3361</td>\n",
       "      <td>17</td>\n",
       "      <td>2021-06-12</td>\n",
       "      <td>6</td>\n",
       "      <td>8</td>\n",
       "      <td>50</td>\n",
       "      <td>0</td>\n",
       "    </tr>\n",
       "    <tr>\n",
       "      <th>6509</th>\n",
       "      <td>700</td>\n",
       "      <td>Айдар</td>\n",
       "      <td>22</td>\n",
       "      <td>Омск</td>\n",
       "      <td>free</td>\n",
       "      <td>2568</td>\n",
       "      <td>12</td>\n",
       "      <td>2021-06-23</td>\n",
       "      <td>6</td>\n",
       "      <td>8</td>\n",
       "      <td>50</td>\n",
       "      <td>0</td>\n",
       "    </tr>\n",
       "  </tbody>\n",
       "</table>\n",
       "</div>"
      ],
      "text/plain": [
       "      user_id   name  age  city subscription_type  distance  duration  \\\n",
       "6500      700  Айдар   22  Омск              free      2516        15   \n",
       "6501      700  Айдар   22  Омск              free       847        17   \n",
       "6502      700  Айдар   22  Омск              free      4005        21   \n",
       "6503      700  Айдар   22  Омск              free      1206        10   \n",
       "6504      700  Айдар   22  Омск              free      3048        18   \n",
       "6505      700  Айдар   22  Омск              free      4343        23   \n",
       "6506      700  Айдар   22  Омск              free      3799        19   \n",
       "6507      700  Айдар   22  Омск              free      2985        16   \n",
       "6508      700  Айдар   22  Омск              free      3361        17   \n",
       "6509      700  Айдар   22  Омск              free      2568        12   \n",
       "\n",
       "           date  month  minute_price  start_ride_price  subscription_fee  \n",
       "6500 2021-01-02      1             8                50                 0  \n",
       "6501 2021-02-01      2             8                50                 0  \n",
       "6502 2021-02-04      2             8                50                 0  \n",
       "6503 2021-02-10      2             8                50                 0  \n",
       "6504 2021-02-14      2             8                50                 0  \n",
       "6505 2021-02-23      2             8                50                 0  \n",
       "6506 2021-03-03      3             8                50                 0  \n",
       "6507 2021-04-09      4             8                50                 0  \n",
       "6508 2021-06-12      6             8                50                 0  \n",
       "6509 2021-06-23      6             8                50                 0  "
      ]
     },
     "metadata": {},
     "output_type": "display_data"
    },
    {
     "data": {
      "text/plain": [
       "11568"
      ]
     },
     "metadata": {},
     "output_type": "display_data"
    },
    {
     "data": {
      "text/plain": [
       "0"
      ]
     },
     "metadata": {},
     "output_type": "display_data"
    },
    {
     "data": {
      "text/plain": [
       "user_id              0\n",
       "name                 0\n",
       "age                  0\n",
       "city                 0\n",
       "subscription_type    0\n",
       "distance             0\n",
       "duration             0\n",
       "date                 0\n",
       "month                0\n",
       "minute_price         0\n",
       "start_ride_price     0\n",
       "subscription_fee     0\n",
       "dtype: int64"
      ]
     },
     "metadata": {},
     "output_type": "display_data"
    },
    {
     "data": {
      "text/plain": [
       "18068"
      ]
     },
     "metadata": {},
     "output_type": "display_data"
    }
   ],
   "source": [
    "#таблица с данными о пользователях без подписки\n",
    "data_free = data.query('subscription_type == [\"free\"]')\n",
    "display(data_free.head(10))\n",
    "#проверка на пропуски, дубли, размерность\n",
    "display(len(data_free), data_free.duplicated().sum(), data_free.isna().sum(), len(data_free)+len(data_ultra))"
   ]
  },
  {
   "cell_type": "code",
   "execution_count": 25,
   "id": "ce282af8",
   "metadata": {
    "scrolled": false
   },
   "outputs": [
    {
     "data": {
      "text/plain": [
       "count    11568.000000\n",
       "mean        17.890992\n",
       "std          6.330250\n",
       "min          1.000000\n",
       "25%         13.000000\n",
       "50%         18.000000\n",
       "75%         22.000000\n",
       "max         35.000000\n",
       "Name: duration, dtype: float64"
      ]
     },
     "metadata": {},
     "output_type": "display_data"
    },
    {
     "data": {
      "image/png": "[encoded data removed]",
      "text/plain": [
       "<Figure size 432x288 with 1 Axes>"
      ]
     },
     "metadata": {
      "needs_background": "light"
     },
     "output_type": "display_data"
    },
    {
     "data": {
      "text/plain": [
       "count    11568.000000\n",
       "mean      3045.992911\n",
       "std       1246.174341\n",
       "min          1.000000\n",
       "25%       2367.000000\n",
       "50%       3115.000000\n",
       "75%       3906.000000\n",
       "max       7212.000000\n",
       "Name: distance, dtype: float64"
      ]
     },
     "metadata": {},
     "output_type": "display_data"
    },
    {
     "data": {
      "image/png": "[encoded data removed]",
      "text/plain": [
       "<Figure size 432x288 with 1 Axes>"
      ]
     },
     "metadata": {
      "needs_background": "light"
     },
     "output_type": "display_data"
    }
   ],
   "source": [
    "#визуализация расстояния и времени поездок для пользователей без подписки\n",
    "\n",
    "display(data_free['duration'].describe())\n",
    "data_free['duration'].hist(bins = 50)\n",
    "plt.xlabel('Продолжительность поездки, мин.')\n",
    "plt.ylabel('Количество поездок по продолжительности')\n",
    "plt.show()\n",
    "\n",
    "\n",
    "display(data_free['distance'].describe())\n",
    "data_free['distance'].hist(bins = 50)\n",
    "plt.xlabel('Расстояние, м.')\n",
    "plt.ylabel('Количество поездок по расстоянию')\n",
    "plt.show()"
   ]
  },
  {
   "cell_type": "code",
   "execution_count": 26,
   "id": "39aa511c",
   "metadata": {},
   "outputs": [
    {
     "data": {
      "image/png": "[encoded data removed]",
      "text/plain": [
       "<Figure size 1080x360 with 1 Axes>"
      ]
     },
     "metadata": {
      "needs_background": "light"
     },
     "output_type": "display_data"
    }
   ],
   "source": [
    "fig, ax = plt.subplots(figsize=(15, 5))\n",
    "ax.hist(data_free['duration'], 50, alpha=0.5, density=True, label='Free')\n",
    "ax.hist(data_ultra['duration'], 50, alpha=0.5, density=True, label='Ultra')\n",
    "plt.xlabel('Продолжительность поездки, мин.')\n",
    "plt.legend()\n",
    "plt.show()"
   ]
  },
  {
   "cell_type": "code",
   "execution_count": 27,
   "id": "dcaa319d",
   "metadata": {},
   "outputs": [
    {
     "data": {
      "image/png": "[encoded data removed]",
      "text/plain": [
       "<Figure size 1080x360 with 1 Axes>"
      ]
     },
     "metadata": {
      "needs_background": "light"
     },
     "output_type": "display_data"
    }
   ],
   "source": [
    "fig, ax = plt.subplots(figsize=(15, 5))\n",
    "ax.hist(data_free['distance'], 50, alpha=0.5, density=True, label='Free')\n",
    "ax.hist(data_ultra['distance'], 50, alpha=0.5, density=True, label='Ultra')\n",
    "plt.xlabel('Расстояние поездки, м.')\n",
    "plt.legend()\n",
    "plt.show()"
   ]
  },
  {
   "cell_type": "markdown",
   "id": "df7a96b3",
   "metadata": {},
   "source": [
    "Было проведено исследование параметров времени (в минутах) и расстояний (в метрах) пользователей без подписки.  \n",
    "В обоих случаях разброс данных не велик, средние и медианные значения практически равны или разница не превышает 10 процентов.  \n",
    "Исследование времени :  \n",
    "Среднее значение = 16.8  \n",
    "Медианное значение = 17  \n",
    "Минимальное = 0  \n",
    "Максимальное = 34  \n",
    "\n",
    "Исследование расстояния :    \n",
    "Среднее значение = 3044.9  \n",
    "Медианное значение = 3114  \n",
    "Минимальное = 0  \n",
    "Максимальное = 7211    \n",
    "При сравнении совмещённых гистограм по расстоянию и времени использовани сервиса у пользователей с подпиской и без подписки видим:  \n",
    "    1) Время поездок практически совпадает: без подписки больше коротких поездок (0-14 минут), с подпиской - больше долгих поездок (14-40 минут)  \n",
    "    2) Расстояние сильно различаются: без подписки превалируют поездки 0-800 м., 1500-2500 м., 4500-7000 м. Явный пик наблюдается в расстоянии с подпиской: примерно 2500-3500 метров проезжают чаще всего пользователи по этому тарифу"
   ]
  },
  {
   "cell_type": "markdown",
   "id": "402d620f",
   "metadata": {},
   "source": [
    "#### Шаг 5. Подсчёт выручки"
   ]
  },
  {
   "cell_type": "code",
   "execution_count": 28,
   "id": "53049e0a",
   "metadata": {
    "scrolled": true
   },
   "outputs": [
    {
     "name": "stdout",
     "output_type": "stream",
     "text": [
      "    user_id  month  count    sum\n",
      "0         1      1      2   7028\n",
      "1         1      4      1    755\n",
      "2         1      8      2   6724\n",
      "3         1     10      2   5811\n",
      "4         1     11      3   7005\n",
      "5         1     12      2   6753\n",
      "6         2      3      3  10190\n",
      "7         2      4      2   6165\n",
      "8         2      6      1   3256\n",
      "9         2      7      2   6781\n",
      "10        2      8      1    924\n",
      "11        2     10      1   2825\n",
      "12        2     12      1   3829\n",
      "13        3      1      1   3062\n",
      "14        3      2      2   5422\n",
      "15        3      4      1   2957\n",
      "16        3      5      3   9065\n",
      "17        3      7      3  10921\n",
      "18        3      9      1   2892\n",
      "19        3     12      1   2594\n",
      "    user_id  month  uses_count  distance_sum  duration_sum\n",
      "0         1      1           2          7028            42\n",
      "1         1      4           1           755             7\n",
      "2         1      8           2          6724            46\n",
      "3         1     10           2          5811            32\n",
      "4         1     11           3          7005            56\n",
      "5         1     12           2          6753            28\n",
      "6         2      3           3         10190            63\n",
      "7         2      4           2          6165            40\n",
      "8         2      6           1          3256            14\n",
      "9         2      7           2          6781            48\n",
      "10        2      8           1           924             7\n",
      "11        2     10           1          2825            19\n",
      "12        2     12           1          3829            12\n",
      "13        3      1           1          3062            13\n",
      "14        3      2           2          5422            39\n",
      "15        3      4           1          2957            21\n",
      "16        3      5           3          9065            63\n",
      "17        3      7           3         10921            67\n",
      "18        3      9           1          2892            23\n",
      "19        3     12           1          2594            13\n",
      "<class 'pandas.core.frame.DataFrame'>\n",
      "Int64Index: 11331 entries, 0 to 11330\n",
      "Data columns (total 5 columns):\n",
      " #   Column        Non-Null Count  Dtype\n",
      "---  ------        --------------  -----\n",
      " 0   user_id       11331 non-null  int64\n",
      " 1   month         11331 non-null  int64\n",
      " 2   uses_count    11331 non-null  int64\n",
      " 3   distance_sum  11331 non-null  int64\n",
      " 4   duration_sum  11331 non-null  int64\n",
      "dtypes: int64(5)\n",
      "memory usage: 531.1 KB\n"
     ]
    },
    {
     "data": {
      "text/plain": [
       "None"
      ]
     },
     "metadata": {},
     "output_type": "display_data"
    },
    {
     "data": {
      "text/html": [
       "<div>\n",
       "<style scoped>\n",
       "    .dataframe tbody tr th:only-of-type {\n",
       "        vertical-align: middle;\n",
       "    }\n",
       "\n",
       "    .dataframe tbody tr th {\n",
       "        vertical-align: top;\n",
       "    }\n",
       "\n",
       "    .dataframe thead th {\n",
       "        text-align: right;\n",
       "    }\n",
       "</style>\n",
       "<table border=\"1\" class=\"dataframe\">\n",
       "  <thead>\n",
       "    <tr style=\"text-align: right;\">\n",
       "      <th></th>\n",
       "      <th>user_id</th>\n",
       "      <th>month</th>\n",
       "      <th>uses_count</th>\n",
       "      <th>distance_sum</th>\n",
       "      <th>duration_sum</th>\n",
       "      <th>name</th>\n",
       "      <th>age</th>\n",
       "      <th>city</th>\n",
       "      <th>subscription_type</th>\n",
       "    </tr>\n",
       "  </thead>\n",
       "  <tbody>\n",
       "    <tr>\n",
       "      <th>0</th>\n",
       "      <td>1</td>\n",
       "      <td>1</td>\n",
       "      <td>2</td>\n",
       "      <td>7028</td>\n",
       "      <td>42</td>\n",
       "      <td>Кира</td>\n",
       "      <td>22</td>\n",
       "      <td>Тюмень</td>\n",
       "      <td>ultra</td>\n",
       "    </tr>\n",
       "    <tr>\n",
       "      <th>1</th>\n",
       "      <td>1</td>\n",
       "      <td>4</td>\n",
       "      <td>1</td>\n",
       "      <td>755</td>\n",
       "      <td>7</td>\n",
       "      <td>Кира</td>\n",
       "      <td>22</td>\n",
       "      <td>Тюмень</td>\n",
       "      <td>ultra</td>\n",
       "    </tr>\n",
       "    <tr>\n",
       "      <th>2</th>\n",
       "      <td>1</td>\n",
       "      <td>8</td>\n",
       "      <td>2</td>\n",
       "      <td>6724</td>\n",
       "      <td>46</td>\n",
       "      <td>Кира</td>\n",
       "      <td>22</td>\n",
       "      <td>Тюмень</td>\n",
       "      <td>ultra</td>\n",
       "    </tr>\n",
       "    <tr>\n",
       "      <th>3</th>\n",
       "      <td>1</td>\n",
       "      <td>10</td>\n",
       "      <td>2</td>\n",
       "      <td>5811</td>\n",
       "      <td>32</td>\n",
       "      <td>Кира</td>\n",
       "      <td>22</td>\n",
       "      <td>Тюмень</td>\n",
       "      <td>ultra</td>\n",
       "    </tr>\n",
       "    <tr>\n",
       "      <th>4</th>\n",
       "      <td>1</td>\n",
       "      <td>11</td>\n",
       "      <td>3</td>\n",
       "      <td>7005</td>\n",
       "      <td>56</td>\n",
       "      <td>Кира</td>\n",
       "      <td>22</td>\n",
       "      <td>Тюмень</td>\n",
       "      <td>ultra</td>\n",
       "    </tr>\n",
       "    <tr>\n",
       "      <th>...</th>\n",
       "      <td>...</td>\n",
       "      <td>...</td>\n",
       "      <td>...</td>\n",
       "      <td>...</td>\n",
       "      <td>...</td>\n",
       "      <td>...</td>\n",
       "      <td>...</td>\n",
       "      <td>...</td>\n",
       "      <td>...</td>\n",
       "    </tr>\n",
       "    <tr>\n",
       "      <th>11326</th>\n",
       "      <td>1534</td>\n",
       "      <td>6</td>\n",
       "      <td>2</td>\n",
       "      <td>3411</td>\n",
       "      <td>26</td>\n",
       "      <td>Альберт</td>\n",
       "      <td>25</td>\n",
       "      <td>Краснодар</td>\n",
       "      <td>free</td>\n",
       "    </tr>\n",
       "    <tr>\n",
       "      <th>11327</th>\n",
       "      <td>1534</td>\n",
       "      <td>8</td>\n",
       "      <td>2</td>\n",
       "      <td>7623</td>\n",
       "      <td>48</td>\n",
       "      <td>Альберт</td>\n",
       "      <td>25</td>\n",
       "      <td>Краснодар</td>\n",
       "      <td>free</td>\n",
       "    </tr>\n",
       "    <tr>\n",
       "      <th>11328</th>\n",
       "      <td>1534</td>\n",
       "      <td>9</td>\n",
       "      <td>1</td>\n",
       "      <td>4929</td>\n",
       "      <td>23</td>\n",
       "      <td>Альберт</td>\n",
       "      <td>25</td>\n",
       "      <td>Краснодар</td>\n",
       "      <td>free</td>\n",
       "    </tr>\n",
       "    <tr>\n",
       "      <th>11329</th>\n",
       "      <td>1534</td>\n",
       "      <td>11</td>\n",
       "      <td>4</td>\n",
       "      <td>13353</td>\n",
       "      <td>78</td>\n",
       "      <td>Альберт</td>\n",
       "      <td>25</td>\n",
       "      <td>Краснодар</td>\n",
       "      <td>free</td>\n",
       "    </tr>\n",
       "    <tr>\n",
       "      <th>11330</th>\n",
       "      <td>1534</td>\n",
       "      <td>12</td>\n",
       "      <td>1</td>\n",
       "      <td>2372</td>\n",
       "      <td>16</td>\n",
       "      <td>Альберт</td>\n",
       "      <td>25</td>\n",
       "      <td>Краснодар</td>\n",
       "      <td>free</td>\n",
       "    </tr>\n",
       "  </tbody>\n",
       "</table>\n",
       "<p>11331 rows × 9 columns</p>\n",
       "</div>"
      ],
      "text/plain": [
       "       user_id  month  uses_count  distance_sum  duration_sum     name  age  \\\n",
       "0            1      1           2          7028            42     Кира   22   \n",
       "1            1      4           1           755             7     Кира   22   \n",
       "2            1      8           2          6724            46     Кира   22   \n",
       "3            1     10           2          5811            32     Кира   22   \n",
       "4            1     11           3          7005            56     Кира   22   \n",
       "...        ...    ...         ...           ...           ...      ...  ...   \n",
       "11326     1534      6           2          3411            26  Альберт   25   \n",
       "11327     1534      8           2          7623            48  Альберт   25   \n",
       "11328     1534      9           1          4929            23  Альберт   25   \n",
       "11329     1534     11           4         13353            78  Альберт   25   \n",
       "11330     1534     12           1          2372            16  Альберт   25   \n",
       "\n",
       "            city subscription_type  \n",
       "0         Тюмень             ultra  \n",
       "1         Тюмень             ultra  \n",
       "2         Тюмень             ultra  \n",
       "3         Тюмень             ultra  \n",
       "4         Тюмень             ultra  \n",
       "...          ...               ...  \n",
       "11326  Краснодар              free  \n",
       "11327  Краснодар              free  \n",
       "11328  Краснодар              free  \n",
       "11329  Краснодар              free  \n",
       "11330  Краснодар              free  \n",
       "\n",
       "[11331 rows x 9 columns]"
      ]
     },
     "metadata": {},
     "output_type": "display_data"
    }
   ],
   "source": [
    "#cоздание датафрейма с агрегированными данными о поездках: \n",
    "#нахождение суммарного расстояние, количества поездок и суммарного время для каждого пользователя за каждый месяц\n",
    "\n",
    "\n",
    "\n",
    "\n",
    "data_grouped1 = data.pivot_table(index=('user_id', 'month'), values= 'distance', aggfunc=('sum', 'count'))\n",
    "data_grouped1 = data_grouped1.reset_index()\n",
    "data_grouped2 = data.pivot_table(index=('user_id', 'month'), values='duration', aggfunc=('sum'))\n",
    "data_grouped2 = data_grouped2.reset_index()\n",
    "\n",
    "print(data_grouped1.head(20))\n",
    "\n",
    "data_grouped = data_grouped1.merge(data_grouped2, on=['user_id', 'month'], how='outer')\n",
    "data_grouped = data_grouped.rename(columns={'count': 'uses_count'})\n",
    "data_grouped = data_grouped.rename(columns={'sum': 'distance_sum'})\n",
    "data_grouped = data_grouped.rename(columns={'duration': 'duration_sum'})\n",
    "\n",
    "print(data_grouped.head(20))\n",
    "display(data_grouped.info())\n",
    "\n",
    "data_grouped = data_grouped.merge(data1, on=['user_id'])\n",
    "display(data_grouped)\n"
   ]
  },
  {
   "cell_type": "code",
   "execution_count": 29,
   "id": "4809f13a",
   "metadata": {},
   "outputs": [
    {
     "data": {
      "text/plain": [
       "11331"
      ]
     },
     "metadata": {},
     "output_type": "display_data"
    },
    {
     "data": {
      "text/plain": [
       "0"
      ]
     },
     "metadata": {},
     "output_type": "display_data"
    },
    {
     "data": {
      "text/plain": [
       "user_id              0\n",
       "month                0\n",
       "uses_count           0\n",
       "distance_sum         0\n",
       "duration_sum         0\n",
       "name                 0\n",
       "age                  0\n",
       "city                 0\n",
       "subscription_type    0\n",
       "dtype: int64"
      ]
     },
     "metadata": {},
     "output_type": "display_data"
    }
   ],
   "source": [
    "display(len(data_grouped), data_grouped.duplicated().sum(), data_grouped.isna().sum())"
   ]
  },
  {
   "cell_type": "code",
   "execution_count": 30,
   "id": "e1aec16c",
   "metadata": {},
   "outputs": [],
   "source": [
    "#добавление столбеца с помесячной выручкой, которую принёс каждый пользователь\n",
    "\n",
    "def profit_count(row):\n",
    "    sub_type = row['subscription_type']\n",
    "    duration = row['duration_sum']\n",
    "    uses_count = row['uses_count']\n",
    "    if sub_type == 'ultra':\n",
    "        return duration * 6 + 199\n",
    "    else: \n",
    "        return duration * 8 + uses_count * 50\n",
    "\n",
    "data_grouped['profit'] = data_grouped.apply(profit_count, axis = 1)\n"
   ]
  },
  {
   "cell_type": "code",
   "execution_count": 31,
   "id": "f95b7854",
   "metadata": {},
   "outputs": [
    {
     "data": {
      "text/html": [
       "<div>\n",
       "<style scoped>\n",
       "    .dataframe tbody tr th:only-of-type {\n",
       "        vertical-align: middle;\n",
       "    }\n",
       "\n",
       "    .dataframe tbody tr th {\n",
       "        vertical-align: top;\n",
       "    }\n",
       "\n",
       "    .dataframe thead th {\n",
       "        text-align: right;\n",
       "    }\n",
       "</style>\n",
       "<table border=\"1\" class=\"dataframe\">\n",
       "  <thead>\n",
       "    <tr style=\"text-align: right;\">\n",
       "      <th></th>\n",
       "      <th>user_id</th>\n",
       "      <th>month</th>\n",
       "      <th>uses_count</th>\n",
       "      <th>distance_sum</th>\n",
       "      <th>duration_sum</th>\n",
       "      <th>name</th>\n",
       "      <th>age</th>\n",
       "      <th>city</th>\n",
       "      <th>subscription_type</th>\n",
       "      <th>profit</th>\n",
       "    </tr>\n",
       "  </thead>\n",
       "  <tbody>\n",
       "    <tr>\n",
       "      <th>0</th>\n",
       "      <td>1</td>\n",
       "      <td>1</td>\n",
       "      <td>2</td>\n",
       "      <td>7028</td>\n",
       "      <td>42</td>\n",
       "      <td>Кира</td>\n",
       "      <td>22</td>\n",
       "      <td>Тюмень</td>\n",
       "      <td>ultra</td>\n",
       "      <td>451</td>\n",
       "    </tr>\n",
       "    <tr>\n",
       "      <th>1</th>\n",
       "      <td>1</td>\n",
       "      <td>4</td>\n",
       "      <td>1</td>\n",
       "      <td>755</td>\n",
       "      <td>7</td>\n",
       "      <td>Кира</td>\n",
       "      <td>22</td>\n",
       "      <td>Тюмень</td>\n",
       "      <td>ultra</td>\n",
       "      <td>241</td>\n",
       "    </tr>\n",
       "    <tr>\n",
       "      <th>2</th>\n",
       "      <td>1</td>\n",
       "      <td>8</td>\n",
       "      <td>2</td>\n",
       "      <td>6724</td>\n",
       "      <td>46</td>\n",
       "      <td>Кира</td>\n",
       "      <td>22</td>\n",
       "      <td>Тюмень</td>\n",
       "      <td>ultra</td>\n",
       "      <td>475</td>\n",
       "    </tr>\n",
       "    <tr>\n",
       "      <th>3</th>\n",
       "      <td>1</td>\n",
       "      <td>10</td>\n",
       "      <td>2</td>\n",
       "      <td>5811</td>\n",
       "      <td>32</td>\n",
       "      <td>Кира</td>\n",
       "      <td>22</td>\n",
       "      <td>Тюмень</td>\n",
       "      <td>ultra</td>\n",
       "      <td>391</td>\n",
       "    </tr>\n",
       "    <tr>\n",
       "      <th>4</th>\n",
       "      <td>1</td>\n",
       "      <td>11</td>\n",
       "      <td>3</td>\n",
       "      <td>7005</td>\n",
       "      <td>56</td>\n",
       "      <td>Кира</td>\n",
       "      <td>22</td>\n",
       "      <td>Тюмень</td>\n",
       "      <td>ultra</td>\n",
       "      <td>535</td>\n",
       "    </tr>\n",
       "    <tr>\n",
       "      <th>...</th>\n",
       "      <td>...</td>\n",
       "      <td>...</td>\n",
       "      <td>...</td>\n",
       "      <td>...</td>\n",
       "      <td>...</td>\n",
       "      <td>...</td>\n",
       "      <td>...</td>\n",
       "      <td>...</td>\n",
       "      <td>...</td>\n",
       "      <td>...</td>\n",
       "    </tr>\n",
       "    <tr>\n",
       "      <th>11326</th>\n",
       "      <td>1534</td>\n",
       "      <td>6</td>\n",
       "      <td>2</td>\n",
       "      <td>3411</td>\n",
       "      <td>26</td>\n",
       "      <td>Альберт</td>\n",
       "      <td>25</td>\n",
       "      <td>Краснодар</td>\n",
       "      <td>free</td>\n",
       "      <td>308</td>\n",
       "    </tr>\n",
       "    <tr>\n",
       "      <th>11327</th>\n",
       "      <td>1534</td>\n",
       "      <td>8</td>\n",
       "      <td>2</td>\n",
       "      <td>7623</td>\n",
       "      <td>48</td>\n",
       "      <td>Альберт</td>\n",
       "      <td>25</td>\n",
       "      <td>Краснодар</td>\n",
       "      <td>free</td>\n",
       "      <td>484</td>\n",
       "    </tr>\n",
       "    <tr>\n",
       "      <th>11328</th>\n",
       "      <td>1534</td>\n",
       "      <td>9</td>\n",
       "      <td>1</td>\n",
       "      <td>4929</td>\n",
       "      <td>23</td>\n",
       "      <td>Альберт</td>\n",
       "      <td>25</td>\n",
       "      <td>Краснодар</td>\n",
       "      <td>free</td>\n",
       "      <td>234</td>\n",
       "    </tr>\n",
       "    <tr>\n",
       "      <th>11329</th>\n",
       "      <td>1534</td>\n",
       "      <td>11</td>\n",
       "      <td>4</td>\n",
       "      <td>13353</td>\n",
       "      <td>78</td>\n",
       "      <td>Альберт</td>\n",
       "      <td>25</td>\n",
       "      <td>Краснодар</td>\n",
       "      <td>free</td>\n",
       "      <td>824</td>\n",
       "    </tr>\n",
       "    <tr>\n",
       "      <th>11330</th>\n",
       "      <td>1534</td>\n",
       "      <td>12</td>\n",
       "      <td>1</td>\n",
       "      <td>2372</td>\n",
       "      <td>16</td>\n",
       "      <td>Альберт</td>\n",
       "      <td>25</td>\n",
       "      <td>Краснодар</td>\n",
       "      <td>free</td>\n",
       "      <td>178</td>\n",
       "    </tr>\n",
       "  </tbody>\n",
       "</table>\n",
       "<p>11331 rows × 10 columns</p>\n",
       "</div>"
      ],
      "text/plain": [
       "       user_id  month  uses_count  distance_sum  duration_sum     name  age  \\\n",
       "0            1      1           2          7028            42     Кира   22   \n",
       "1            1      4           1           755             7     Кира   22   \n",
       "2            1      8           2          6724            46     Кира   22   \n",
       "3            1     10           2          5811            32     Кира   22   \n",
       "4            1     11           3          7005            56     Кира   22   \n",
       "...        ...    ...         ...           ...           ...      ...  ...   \n",
       "11326     1534      6           2          3411            26  Альберт   25   \n",
       "11327     1534      8           2          7623            48  Альберт   25   \n",
       "11328     1534      9           1          4929            23  Альберт   25   \n",
       "11329     1534     11           4         13353            78  Альберт   25   \n",
       "11330     1534     12           1          2372            16  Альберт   25   \n",
       "\n",
       "            city subscription_type  profit  \n",
       "0         Тюмень             ultra     451  \n",
       "1         Тюмень             ultra     241  \n",
       "2         Тюмень             ultra     475  \n",
       "3         Тюмень             ultra     391  \n",
       "4         Тюмень             ultra     535  \n",
       "...          ...               ...     ...  \n",
       "11326  Краснодар              free     308  \n",
       "11327  Краснодар              free     484  \n",
       "11328  Краснодар              free     234  \n",
       "11329  Краснодар              free     824  \n",
       "11330  Краснодар              free     178  \n",
       "\n",
       "[11331 rows x 10 columns]"
      ]
     },
     "metadata": {},
     "output_type": "display_data"
    }
   ],
   "source": [
    "display(data_grouped)"
   ]
  },
  {
   "cell_type": "code",
   "execution_count": 32,
   "id": "7b1535ca",
   "metadata": {},
   "outputs": [],
   "source": [
    "#добавление столбца с вычислением прибыли от каждого пользователя в месяц\n",
    "\n",
    "\n",
    "#for subtype in data_grouped:\n",
    "#    if 'free'in data_grouped['subscription_type']:\n",
    "#        data_grouped['profit'] = data_grouped['duration_sum'] * 8 + data_grouped['uses_count'] * 50\n",
    "#    else:\n",
    "#         data_grouped['profit'] = data_grouped['duration_sum'] * 6 + 199\n",
    "#display(data_grouped)\n",
    "\n"
   ]
  },
  {
   "cell_type": "code",
   "execution_count": 33,
   "id": "16b4ac33",
   "metadata": {
    "scrolled": false
   },
   "outputs": [
    {
     "name": "stdout",
     "output_type": "stream",
     "text": [
      "0\n",
      "0\n",
      "<class 'pandas.core.frame.DataFrame'>\n",
      "RangeIndex: 11331 entries, 0 to 11330\n",
      "Data columns (total 10 columns):\n",
      " #   Column             Non-Null Count  Dtype \n",
      "---  ------             --------------  ----- \n",
      " 0   user_id            11331 non-null  int64 \n",
      " 1   month              11331 non-null  int64 \n",
      " 2   uses_count         11331 non-null  int64 \n",
      " 3   distance_sum       11331 non-null  int64 \n",
      " 4   duration_sum       11331 non-null  int64 \n",
      " 5   name               11331 non-null  object\n",
      " 6   age                11331 non-null  int64 \n",
      " 7   city               11331 non-null  object\n",
      " 8   subscription_type  11331 non-null  object\n",
      " 9   profit             11331 non-null  int64 \n",
      "dtypes: int64(7), object(3)\n",
      "memory usage: 885.4+ KB\n"
     ]
    }
   ],
   "source": [
    "print(data_grouped.duplicated().sum())\n",
    "data_grouped = data_grouped.drop_duplicates().reset_index(drop=True)\n",
    "print(data_grouped.duplicated().sum())\n",
    "data_grouped.info()"
   ]
  },
  {
   "cell_type": "markdown",
   "id": "7c24a998",
   "metadata": {},
   "source": [
    "Была создана сводная таблица с вычислением суммарного расстояния, времени и количества поездок за конкретный месяц.  \n",
    "Также был добавлен столбец с подсчётом месячной выручки, полученой от каждого пользователя сервиса."
   ]
  },
  {
   "cell_type": "code",
   "execution_count": 34,
   "id": "1c74d457",
   "metadata": {
    "scrolled": true
   },
   "outputs": [
    {
     "data": {
      "text/plain": [
       "3878641"
      ]
     },
     "execution_count": 34,
     "metadata": {},
     "output_type": "execute_result"
    }
   ],
   "source": [
    "data_grouped['profit'].sum()"
   ]
  },
  {
   "cell_type": "markdown",
   "id": "03689a63",
   "metadata": {},
   "source": [
    "#### Шаг 6. Проверка гипотез"
   ]
  },
  {
   "cell_type": "markdown",
   "id": "ed1c2c91",
   "metadata": {},
   "source": [
    "Важно понять, тратят ли пользователи с подпиской больше времени на поездки? \n",
    "Если да, то пользователи с подпиской могут быть «выгоднее» для компании. Проверьте гипотезу. \n",
    "Используйте исходные данные о продолжительности каждой сессии — отдельно для подписчиков и тех, у кого нет подписки."
   ]
  },
  {
   "cell_type": "markdown",
   "id": "2559ee65",
   "metadata": {},
   "source": [
    "#### Шаг 6.1"
   ]
  },
  {
   "cell_type": "markdown",
   "id": "6cbfcff5",
   "metadata": {},
   "source": [
    "Формулируем нулевую и альтернативную гипотезу:  \n",
    "    Нулевая: среднее время использования генеральных совокупностей пользователей с подпиской и без равны    \n",
    "    Альтернативная: среднее время использования генеральной совокупностей пользователей с подпиской выше, чем без подписки"
   ]
  },
  {
   "cell_type": "code",
   "execution_count": 35,
   "id": "cc1e1055",
   "metadata": {},
   "outputs": [
    {
     "name": "stdout",
     "output_type": "stream",
     "text": [
      "p-значение: 1.1814679253701353e-36\n",
      "Отвергаем нулевую гипотезу\n"
     ]
    }
   ],
   "source": [
    "#проверяем одностороннюю гипотезу для двух генеральных совокупностей\n",
    "\n",
    "alpha = 0.05 \n",
    "\n",
    "\n",
    "results = st.ttest_ind(data_ultra['duration'], data_free['duration'] , equal_var=False,  alternative='greater')\n",
    "\n",
    "print('p-значение:', results.pvalue)\n",
    "\n",
    "if results.pvalue < alpha:\n",
    "    print('Отвергаем нулевую гипотезу')\n",
    "else:\n",
    "    print('Не получилось отвергнуть нулевую гипотезу') "
   ]
  },
  {
   "cell_type": "code",
   "execution_count": 36,
   "id": "977fc9de",
   "metadata": {},
   "outputs": [
    {
     "data": {
      "text/plain": [
       "count    11568.000000\n",
       "mean        17.890992\n",
       "std          6.330250\n",
       "min          1.000000\n",
       "5%           8.000000\n",
       "25%         13.000000\n",
       "50%         18.000000\n",
       "75%         22.000000\n",
       "95%         29.000000\n",
       "99%         33.000000\n",
       "max         35.000000\n",
       "Name: duration, dtype: float64"
      ]
     },
     "execution_count": 36,
     "metadata": {},
     "output_type": "execute_result"
    }
   ],
   "source": [
    "\n",
    "\n",
    "\n",
    "data_free['duration'].describe(percentiles=[0.05, 1/4, 1/2, 3/4, 0.95, 0.99])"
   ]
  },
  {
   "cell_type": "markdown",
   "id": "10a32421",
   "metadata": {},
   "source": [
    "Параметр количества минут, потраченных пользователями без подписки (минуты) на поездки:    \n",
    "Среднее значение = 17  \n",
    "Медаиннное = 17  \n",
    "Среднее и медианное значения равны, большого разброса по данным не наблюдается  "
   ]
  },
  {
   "cell_type": "code",
   "execution_count": 37,
   "id": "c744476c",
   "metadata": {},
   "outputs": [
    {
     "data": {
      "text/plain": [
       "count    6500.000000\n",
       "mean       19.037692\n",
       "std         5.577439\n",
       "min         4.000000\n",
       "5%         11.000000\n",
       "25%        15.000000\n",
       "50%        19.000000\n",
       "75%        22.000000\n",
       "95%        29.000000\n",
       "99%        34.000000\n",
       "max        41.000000\n",
       "Name: duration, dtype: float64"
      ]
     },
     "execution_count": 37,
     "metadata": {},
     "output_type": "execute_result"
    }
   ],
   "source": [
    "\n",
    "data_ultra['duration'].describe(percentiles=[0.05, 1/4, 1/2, 3/4, 0.95, 0.99])"
   ]
  },
  {
   "cell_type": "markdown",
   "id": "ee0de178",
   "metadata": {},
   "source": [
    "Параметр количества минут, потраченных пользователями с подпиской (минуты) на поездки:    \n",
    "Среднее значение = 18  \n",
    "Медаиннное = 18  \n",
    "Среднее и медианное значения равны, большого разброса по данным не наблюдается  "
   ]
  },
  {
   "cell_type": "markdown",
   "id": "c8d3994f",
   "metadata": {},
   "source": [
    "Пользователи по подписке в среднем тратят на поездки на 1 минуту больше, чем пользователи без подписки.\n",
    "Эта разница составляет 5.7% среднего значения времени на дорогу.    \n",
    "Сформулирали нулевую и альтернативную гипотезу:  \n",
    "Нулевая: среднее время использования генеральных совокупностей пользователей с подпиской и без равны  \n",
    "Альтернативная: среднее время использования генеральной совокупностей пользователей с подпиской выше, чем без подписки  \n",
    "Т-тест отверг нулевую гипотезу, Полученное значение p-value (1.18e-36) меньше заданного уровня значимости альфа (0.05), \n",
    "поэтому можно отвергнуть нулевую гипотезу. Есть основания говорить, что пользователи с подпиской тратят в сервисе больше времени.\n",
    " \n"
   ]
  },
  {
   "cell_type": "markdown",
   "id": "8ba3d8b2",
   "metadata": {},
   "source": [
    "#### Шаг 6.2"
   ]
  },
  {
   "cell_type": "markdown",
   "id": "869c8b64",
   "metadata": {},
   "source": [
    "Расстояние одной поездки в 3130 метров — оптимальное с точки зрения износа самоката. \n",
    "Можно ли сказать, что среднее расстояние, которое проезжают пользователи с подпиской за одну поездку, не превышает 3130 метров? \n",
    "Проверьте гипотезу и сделайте выводы."
   ]
  },
  {
   "cell_type": "markdown",
   "id": "cfa02a21",
   "metadata": {},
   "source": [
    "Формируем нулевую и альтернативную гипотезу:\n",
    "Нулевая: среднее расстояние генеральной совокупности пользователей с подпиской и близки оптимальному значению 3130 метров.\n",
    "Альтернативная: среднее расстояние генеральной совокупностей пользователей с подпиской выше оптимального значения 3130 метров."
   ]
  },
  {
   "cell_type": "code",
   "execution_count": 38,
   "id": "638bd94b",
   "metadata": {
    "scrolled": true
   },
   "outputs": [
    {
     "name": "stdout",
     "output_type": "stream",
     "text": [
      "p-значение: 0.9120422337080507\n",
      "Не получилось отвергнуть нулевую гипотезу\n"
     ]
    }
   ],
   "source": [
    "#проверяем одностороннюю гипотезу методом st.ttest_1samp()\n",
    "optimal_value = 3130\n",
    "\n",
    "alpha = 0.05\n",
    "\n",
    "results = st.ttest_1samp(\n",
    "    data_ultra['distance'], \n",
    "    optimal_value, alternative='greater')\n",
    "\n",
    "print('p-значение:', results.pvalue) \n",
    "\n",
    "if results.pvalue < alpha:\n",
    "    print('Отвергаем нулевую гипотезу')\n",
    "else:\n",
    "    print('Не получилось отвергнуть нулевую гипотезу')"
   ]
  },
  {
   "cell_type": "code",
   "execution_count": 39,
   "id": "b9ab623b",
   "metadata": {},
   "outputs": [
    {
     "data": {
      "text/plain": [
       "count    6500.000000\n",
       "mean     3115.949231\n",
       "std       836.894838\n",
       "min       245.000000\n",
       "5%       1119.950000\n",
       "25%      2786.000000\n",
       "50%      3149.000000\n",
       "75%      3561.000000\n",
       "95%      4383.050000\n",
       "99%      4805.050000\n",
       "max      5700.000000\n",
       "Name: distance, dtype: float64"
      ]
     },
     "execution_count": 39,
     "metadata": {},
     "output_type": "execute_result"
    }
   ],
   "source": [
    "\n",
    "\n",
    "data_ultra['distance'].describe(percentiles=[0.05, 1/4, 1/2, 3/4, 0.95, 0.99])"
   ]
  },
  {
   "cell_type": "code",
   "execution_count": null,
   "id": "66fea14f",
   "metadata": {},
   "outputs": [],
   "source": []
  },
  {
   "cell_type": "markdown",
   "id": "94ac50ad",
   "metadata": {},
   "source": [
    "Параметр расстояния, пеодолённого пользователями с подпиской (метры) на поездки:    \n",
    "Среднее значение = 3115  \n",
    "Медаиннное = 3148  \n",
    "Среднее и медианное значения близки, большого разброса по данным не наблюдается"
   ]
  },
  {
   "cell_type": "markdown",
   "id": "4aa7e5fc",
   "metadata": {},
   "source": [
    "Среднее расстояние, которое проезжают пользователи с подпиской за одну поездку, не превышает 3130 метров и равняется 3115 метров.\n",
    "Более того, 50% пользователей проезжают менее 3130 метров."
   ]
  },
  {
   "cell_type": "markdown",
   "id": "f4985eef",
   "metadata": {},
   "source": [
    "Сформировали нулевую и альтернативную гипотезу:  \n",
    "Нулевая: среднее расстояние генеральной совокупности пользователей с подпиской и близки оптимальному значению 3130 метров.\n",
    "Альтернативная: среднее расстояние генеральной совокупностей пользователей с подпиской выше оптимального значения 3130 метров.  \n",
    "Т-тест не отверг нулевую гипотезу. Полученное значение p-value (0.91) больше заданного уровня значимости альфа (0.05). \n",
    "Есть основания говорить, что пользователи с подпиской проезжают расстояния близкое оптимальному значению.  \n",
    "Это может означать, что использование самокатов пользователями с подпиской назодится в пределах плана эксплуатации техники и не требует пересмотра."
   ]
  },
  {
   "cell_type": "markdown",
   "id": "b0f9bf22",
   "metadata": {},
   "source": [
    "#### Шаг 6.3"
   ]
  },
  {
   "cell_type": "markdown",
   "id": "d5d5fb7e",
   "metadata": {},
   "source": [
    "Проверьте гипотезу о том, будет ли помесячная выручка от пользователей с подпиской по месяцам выше, чем выручка от пользователей без подписки. Сделайте вывод."
   ]
  },
  {
   "cell_type": "markdown",
   "id": "248bbb89",
   "metadata": {},
   "source": [
    "Формируем нулевую и альтернативную гипотезу:\n",
    "Нулевая: средняя помесячная прибыль генеральной совокупности пользователей с подпиской и без подписки равны.  \n",
    "Альтернативная: средняя помесячная прибыль генеральной совокупности пользователей с подпиской выше"
   ]
  },
  {
   "cell_type": "code",
   "execution_count": 40,
   "id": "a88a3155",
   "metadata": {},
   "outputs": [],
   "source": [
    "data_free_profit = data_grouped.query('subscription_type == \"free\"')\n",
    "data_ultra_profit = data_grouped.query('subscription_type == \"ultra\"')\n",
    "\n"
   ]
  },
  {
   "cell_type": "code",
   "execution_count": 41,
   "id": "3dbdda1a",
   "metadata": {},
   "outputs": [
    {
     "name": "stdout",
     "output_type": "stream",
     "text": [
      "p-значение: 8.874140893976874e-40\n",
      "Отвергаем нулевую гипотезу\n"
     ]
    }
   ],
   "source": [
    "#проверяем одностороннюю гипотезу для двух генеральных совокупностей\n",
    "alpha = 0.05 \n",
    "\n",
    "\n",
    "results = st.ttest_ind(data_ultra_profit['profit'], data_free_profit['profit'] , equal_var=False,  alternative='greater')\n",
    "\n",
    "print('p-значение:', results.pvalue)\n",
    "\n",
    "if results.pvalue < alpha:\n",
    "    print('Отвергаем нулевую гипотезу')\n",
    "else:\n",
    "    print('Не получилось отвергнуть нулевую гипотезу') "
   ]
  },
  {
   "cell_type": "markdown",
   "id": "7985e6aa",
   "metadata": {},
   "source": [
    "Сформировали нулевую и альтернативную гипотезу:  \n",
    "Нулевая: средняя помесячная прибыль генеральной совокупности пользователей с подпиской и без подписки равны.  \n",
    "Альтернативная: средняя помесячная прибыль генеральной совокупности пользователей с подпиской выше.  \n",
    "Т-тест отверг нулевую гипотезу. Полученное значение p-value (8.87e-40) меньше заданного уровня значимости альфа (0.05). Есть основания говорить, что пользователи с подпиской приносят большую помесячную прибыль, чем пользователи без подписки.   "
   ]
  },
  {
   "cell_type": "code",
   "execution_count": 42,
   "id": "07333726",
   "metadata": {},
   "outputs": [
    {
     "data": {
      "image/png": "[encoded data removed]",
      "text/plain": [
       "<Figure size 1080x360 with 1 Axes>"
      ]
     },
     "metadata": {
      "needs_background": "light"
     },
     "output_type": "display_data"
    }
   ],
   "source": [
    "\n",
    "\n",
    "fig, ax = plt.subplots(figsize=(15, 5))\n",
    "\n",
    "\n",
    "ax.hist(data_ultra_profit['profit'], 60, alpha=0.5, label='Ultra', density=True)\n",
    "ax.hist(data_free_profit['profit'], 60, alpha=0.5, label='Free', density=True)\n",
    "\n",
    "\n",
    "plt.xlabel('Выручка за месяц')\n",
    "plt.legend()\n",
    "plt.show()"
   ]
  },
  {
   "cell_type": "code",
   "execution_count": 43,
   "id": "bc760391",
   "metadata": {},
   "outputs": [
    {
     "data": {
      "text/plain": [
       "sum       2.234104e+06\n",
       "mean      3.286414e+02\n",
       "median    2.740000e+02\n",
       "Name: profit, dtype: float64"
      ]
     },
     "metadata": {},
     "output_type": "display_data"
    },
    {
     "data": {
      "text/plain": [
       "sum       1.644537e+06\n",
       "mean      3.627922e+02\n",
       "median    3.370000e+02\n",
       "Name: profit, dtype: float64"
      ]
     },
     "metadata": {},
     "output_type": "display_data"
    },
    {
     "data": {
      "text/plain": [
       "73.61058392984391"
      ]
     },
     "metadata": {},
     "output_type": "display_data"
    },
    {
     "data": {
      "text/plain": [
       "110.39151766050716"
      ]
     },
     "metadata": {},
     "output_type": "display_data"
    },
    {
     "data": {
      "text/plain": [
       "122.99270072992701"
      ]
     },
     "metadata": {},
     "output_type": "display_data"
    }
   ],
   "source": [
    "display(data_free_profit['profit'].agg(['sum', 'mean', 'median']))\n",
    "display(data_ultra_profit['profit'].agg(['sum', 'mean', 'median']))\n",
    "\n",
    "display(data_ultra_profit['profit'].sum() / data_free_profit['profit'].sum() * 100)\n",
    "display(data_ultra_profit['profit'].mean() / data_free_profit['profit'].mean() * 100)\n",
    "display(data_ultra_profit['profit'].median() / data_free_profit['profit'].median() * 100)"
   ]
  },
  {
   "cell_type": "markdown",
   "id": "96674e9b",
   "metadata": {},
   "source": [
    "Общая выручка за время наблюдений выше от пользователей без подписки на 26%.  \n",
    "Средняя помесячная выручка ниже от пользователей без подписки на 10%.  \n",
    "Медианная помесячная выручка ниже от пользователей без подписки на 23%."
   ]
  },
  {
   "cell_type": "code",
   "execution_count": 44,
   "id": "d9928926",
   "metadata": {
    "scrolled": true
   },
   "outputs": [
    {
     "data": {
      "text/plain": [
       "count    6798.000000\n",
       "mean      328.641365\n",
       "std       183.868330\n",
       "min        58.000000\n",
       "5%        130.000000\n",
       "25%       194.000000\n",
       "50%       274.000000\n",
       "75%       428.000000\n",
       "95%       694.000000\n",
       "99%       922.180000\n",
       "max      1444.000000\n",
       "Name: profit, dtype: float64"
      ]
     },
     "execution_count": 44,
     "metadata": {},
     "output_type": "execute_result"
    }
   ],
   "source": [
    "data_free_profit['profit'].describe(percentiles=[0.05, 1/4, 1/2, 3/4, 0.95, 0.99])\n"
   ]
  },
  {
   "cell_type": "code",
   "execution_count": 45,
   "id": "c354789b",
   "metadata": {},
   "outputs": [
    {
     "name": "stdout",
     "output_type": "stream",
     "text": [
      "0.1813395769726095\n"
     ]
    }
   ],
   "source": [
    "data_mean_median1 = (data_free_profit['profit'].mean() - data_free_profit['profit'].median())\\\n",
    "/ ((data_free_profit['profit'].mean() + data_free_profit['profit'].median()) / 2)\n",
    "print(data_mean_median1)"
   ]
  },
  {
   "cell_type": "code",
   "execution_count": 46,
   "id": "e14f7564",
   "metadata": {},
   "outputs": [
    {
     "data": {
      "text/plain": [
       "count    4533.000000\n",
       "mean      362.792191\n",
       "std        88.262737\n",
       "min       223.000000\n",
       "5%        271.000000\n",
       "25%       301.000000\n",
       "50%       337.000000\n",
       "75%       409.000000\n",
       "95%       541.000000\n",
       "99%       671.080000\n",
       "max       955.000000\n",
       "Name: profit, dtype: float64"
      ]
     },
     "execution_count": 46,
     "metadata": {},
     "output_type": "execute_result"
    }
   ],
   "source": [
    "data_ultra_profit['profit'].describe(percentiles=[0.05, 1/4, 1/2, 3/4, 0.95, 0.99])\n"
   ]
  },
  {
   "cell_type": "code",
   "execution_count": 47,
   "id": "6231040c",
   "metadata": {
    "scrolled": true
   },
   "outputs": [
    {
     "name": "stdout",
     "output_type": "stream",
     "text": [
      "0.07371385662378735\n"
     ]
    }
   ],
   "source": [
    "data_mean_median2 = (data_ultra_profit['profit'].mean() - data_ultra_profit['profit'].median())\\\n",
    "/ ((data_ultra_profit['profit'].mean() + data_ultra_profit['profit'].median()) / 2)\n",
    "print(data_mean_median2)"
   ]
  },
  {
   "cell_type": "code",
   "execution_count": 48,
   "id": "f8e4a4f2",
   "metadata": {},
   "outputs": [
    {
     "name": "stdout",
     "output_type": "stream",
     "text": [
      "0.4 -0.1 -0.21\n"
     ]
    }
   ],
   "source": [
    "count_difference = round((data_free_profit['profit'].count() - data_ultra_profit['profit'].count())\\\n",
    "                         / ((data_free_profit['profit'].count() + data_ultra_profit['profit'].count())/ 2), 2)\n",
    "\n",
    "mean_difference = round((data_free_profit['profit'].mean() - data_ultra_profit['profit'].mean())\\\n",
    "                        / ((data_free_profit['profit'].mean() + data_ultra_profit['profit'].mean())/ 2), 2)\n",
    "\n",
    "median_difference = round((data_free_profit['profit'].median() - data_ultra_profit['profit'].median())\\\n",
    "                          / ((data_free_profit['profit'].median() + data_ultra_profit['profit'].median())/ 2), 2)\n",
    "print(count_difference, mean_difference, median_difference)"
   ]
  },
  {
   "cell_type": "markdown",
   "id": "269bc591",
   "metadata": {},
   "source": [
    "При сравнении значений параметров прибыли по месяцам от пользователей с подиской и без, замечаем,   \n",
    "что среднее и медианное значения прибыли за месяц без подписки выше на 5 процентов, чем выручка от пользователей с подпиской.  \n",
    "С учётом того, что пользователи с бесплатной подпиской обращались к сервису чаще, чем пользователи с платной -     \n",
    "на 40% больше записей о пользователеях с бесплатной подпиской, регистрирующих использование сервиса в конкретный месяц -  \n",
    "говорит нам о том, что для компании на данный момент более выгодной является бесплатная подписка.  \n",
    "Общая выручка за время наблюдений выше от пользователей без подписки на 26%.  \n",
    "Средняя помесячная выручка выше от пользователей без подписки на 5%.  \n",
    "Медианная помесячная выручка выше от пользователей без подписки на 5%."
   ]
  },
  {
   "cell_type": "markdown",
   "id": "a8622fe5",
   "metadata": {},
   "source": [
    "### Шаг 6.4"
   ]
  },
  {
   "cell_type": "markdown",
   "id": "439b43a7",
   "metadata": {},
   "source": [
    "Представьте такую ситуацию: техническая команда сервиса обновила сервера, с которыми взаимодействует мобильное приложение. \n",
    "Она надеется, что из-за этого количество обращений в техподдержку значимо снизилось. \n",
    "Некоторый файл содержит для каждого пользователя данные о количестве обращений до обновления и после него. \n",
    "Какой тест вам понадобился бы для проверки этой гипотезы?\n",
    "\n"
   ]
  },
  {
   "cell_type": "markdown",
   "id": "7bbfb9e5",
   "metadata": {},
   "source": [
    "Для анализа одной генеральной совокупности, с которой произошли изменения, при проверке односторонней в меньшую сторону гипотезы необходимо воспользоваться методом scipy.stats.ttest_rel() с аргументом alternative='less'"
   ]
  },
  {
   "cell_type": "markdown",
   "id": "6fa44478",
   "metadata": {},
   "source": [
    "### Общий вывод"
   ]
  },
  {
   "cell_type": "markdown",
   "id": "9c4af810",
   "metadata": {},
   "source": [
    "В данном исследовании был проведён анализ данных о пользователях сервиса аренды самокатов GoFast.   \n",
    "Источником информации выступили три таблицы.  \n",
    "В первой таблице находится 1565 записей о пользователях по следующим характеристикам:  \n",
    "- id пользователя\n",
    "- имя\n",
    "- возраст\n",
    "- город\n",
    "- тип подписки   \n",
    "Во второй таблице 18068 записей о поездках пользователей по следующим парамтрам:\n",
    "- id пользователя\n",
    "- расстояние\n",
    "- продолжительность\n",
    "- дата поездки   \n",
    "В третьей таблице описывается тарифы пользования сервисом по следующим параметрам:\n",
    "- название тарифа\n",
    "- стоимость минуту\n",
    "- стоимость начала поездки\n",
    "- стоимость месячной подписки  \n",
    "\n",
    "При исследовании таблицы с информацией о пользователях были обнаружены и удалены 31 дубликат.\n",
    "Выявлены 194 уникальных имени и 1534 уникальных id пользователей.   \n",
    "Также был проведена заменена типа данных на date в столбце с датой.\n",
    "Пропуски в таблицах не были обнаружены.  \n",
    "При анализе данных таблиц информмация о поездках была проанализирована по параметрам, отражающим использование сервиса польователями.  \n",
    "Таким образом были выявлены следующие ключевые наблюдения:  \n",
    "    1) Частота встречаемости городов  \n",
    "    Чаще всего пользуются сервисом в Пятигорске - на него приходится 14.5% поездок. \n",
    "    Реже всего пользуются сервисом в Москве - на неё приходится 11.0% поездок.  \n",
    "    2) Соотношение пользователей с подпиской и без подписки  \n",
    "    54.4% приходится на пользователей без подписки, у 45.6% пользователей есть подписка.  \n",
    "    3) Возраст пользователей  \n",
    "    Средное и медианное значение возраста близки и равны 25 годам.  \n",
    "Минимальный возраст = 12 лет  \n",
    "Максимальный возраст = 43 года  \n",
    "    4) Расстояние, которое пользователь преодолел за одну поездку \n",
    "    Среднее расстояние = 3070 м.  \n",
    "Медианное расстояние = 3133 м.  \n",
    "Минимальное расстояние = 1 м.  \n",
    "Максимальное расстояние = 7211 м.      \n",
    "    5) Продолжительность поездок  \n",
    "Средное и медианное значение возраста близки и равны 18 мин.  \n",
    "Минимальное время = 0.5 мин.  \n",
    "Максимальное время = 40.8 мин.        \n",
    "\n",
    "Данные всех таблиц были объеденены в единую сводную таблицу. Также были созданы таблицы отдельно для пользователей без подписки и с подпиской.  \n",
    "Были проанализированны данные для пользователей разных тарификаций:    \n",
    "    1) Подписка    \n",
    "Исследование времени использования:    \n",
    "Среднее значение = 18 мин.  \n",
    "Медианное значение = 18 мин.  \n",
    "Минимальное = 3 мин.  \n",
    "Максимальное = 40 мин.  \n",
    "\n",
    "Исследование расстояния :  \n",
    "Среднее значение = 3114.9 м.  \n",
    "Медианное значение = 3148 м.  \n",
    "Минимальное = 244 м.  \n",
    "Максимальное = 5699 м.    \n",
    "    2) Без подписки    \n",
    "Исследование времени :  \n",
    "Среднее значение = 16.8 мин.  \n",
    "Медианное значение = 17 мин.  \n",
    "Минимальное = 0 мин.  \n",
    "Максимальное = 34 мин.  \n",
    "\n",
    "Исследование расстояния :  \n",
    "Среднее значение = 3044.9 м.  \n",
    "Медианное значение = 3114 м.  \n",
    "Минимальное = 0 м.  \n",
    "Максимальное = 7211 м.     \n",
    "По вышеперечисленным параметрам была также построена визуализация распределения значений.    \n",
    "\n",
    "В сводной таблице был добавлен столбец, в котором отражена помесячная выручка от каждого пользователя сервиса.  \n",
    "От менеджмента были получены гипотезы, которые в исследовании были проверены тестом поиска p-value - значение, позволяющее определять, отвергать или принимать гипотезу.  \n",
    "Для каждого из тестов по умолчанию устонавливаем уровень статистической значимости альфа равным 0,05. Если p-value меньше значения альфа, то первоначальную гипотезу мы отвергаем в пользу альтернативной.\n",
    "По дополненной таблице были проверены следующие гипотезы:  \n",
    "1) Пользователи с подпиской тратят больше времени на поездки   \n",
    "    За нулевую гипотезу берём равенство средних значений времени генеральных совокупностей пользователей с подпиской и без подписки.   \n",
    "    За альтернативную - время использования сервиса пользователями по подписке больше, чем без подписки   \n",
    "    Был проведён т-тест, в результате которого получили p-value равной 1.18e-36, что меньше значения альфа (0.05). Таким образом узнаём, что среднее значение времени пользователей двух выборок не равны, а значит есть основания говорить, что пользователи по подписке тратят больше времени в сервисе.  \n",
    "    Также были вычеслены в численном выржении различия во времени использования между пользователями двух разных тарифов:  \n",
    "    Пользователи по подписке в среднем тратят на поездки на 1 минуту больше, чем пользователи без подписки. \n",
    "    Эта разница составляет 5.7% среднего значения затраченного времени на дорогу.\n",
    "    \n",
    "2) Среднее расстояние, которое проезжают пользователи с подпиской за одну поездку, не превышает 3130 метров.    \n",
    "    Сформировали нулевую и альтернативную гипотезу:  \n",
    "    Нулевая: среднее расстояние генеральной совокупности пользователей с подпиской близки оптимальному значению 3130 метров.     \n",
    "    Альтернативная: среднее расстояние генеральной совокупностей пользователей с подпиской выше оптимального значения 3130 метров.  \n",
    "    Т-тест не отверг нулевую гипотезу. Полученное значение p-value (0.91) больше заданного уровня значимости альфа (0.05). Есть основания говорить, что пользователи с подпиской проезжают расстояния близкое оптимальному значению.  \n",
    "    Также были проведены вычисления по значениям в таблице:      \n",
    "   Среднее расстояние, которое проезжают пользователи с подпиской за одну поездку, не превышает 3130 метров и равняется 3115 метров.  \n",
    "    Это может означать, что использование самокатов пользователями с подпиской назодится в пределах плана эксплуатации техники и не требует пересмотра.        \n",
    "         \n",
    "\n",
    "3) Помесячная выручка от пользователей с подпиской по месяцам выше, чем выручка от пользователей без подписки.       \n",
    "    Сформировали нулевую и альтернативную гипотезу:  \n",
    "    Нулевая: средняя помесячная прибыль генеральной совокупности пользователей с подпиской и без подписки равны.   \n",
    "    Альтернативная: средняя помесячная прибыль генеральной совокупности пользователей с подпиской выше.    \n",
    "    Т-тест отверг нулевую гипотезу. Полученное значение p-value (8.87e-40) меньше заданного уровня значимости альфа (0.05). Есть основания говорить, что пользователи с подпиской приносят большую помесячную прибыль, чем пользователи без подписки.  \n",
    "    При сравнении значений параметров прибыли по месяцам от пользователей с подиской и без, замечаем, что среднее значение прибыли за месяц без подписки ниже на 10 процентов, чем выручка от пользователей с подпиской, а медианное - ниже на 20%   Это подкрепляет результаты теста.      \n",
    "\n",
    "Подведём итог:  \n",
    "    После проверки гипотез есть основания говорить, пользователи с подпиской выгоднее компании:   \n",
    "        - они тратят больше времени при использовании сервиса;  \n",
    "        - помесячная прибыль от них поступает выше, чем от пользователей без подписки;  \n",
    "        - в среднем пользователи по подписке не преодолевают расстояние больше, чем оптимальное с точки зрения износа самоката (3130 м.)  \n",
    "Таким образом, для развития компании стоит сфокусироваться на акциях, нацеленных на расширение этого сегмента пользователей."
   ]
  },
  {
   "cell_type": "markdown",
   "id": "61213c5e",
   "metadata": {},
   "source": [
    "#### Шаг 7. Распределения"
   ]
  },
  {
   "cell_type": "markdown",
   "id": "90f94d4b",
   "metadata": {},
   "source": [
    "Отделу маркетинга GoFast поставили задачу: нужно провести акцию с раздачей промокодов на один бесплатный месяц подписки, в рамках которой как минимум \n",
    "100 существующих клиентов должны продлить эту подписку. То есть по завершении периода действия подписки пользователь может либо отказаться от неё, либо продлить, совершив соответствующий платёж. \n",
    "Эта акция уже проводилась ранее и по итогу выяснилось, что после бесплатного пробного периода подписку продлевают \n",
    "10 % пользователей. Выясните, какое минимальное количество промокодов нужно разослать, чтобы вероятность не выполнить план была примерно \n",
    "5 %. Подберите параметры распределения, описывающего эту ситуацию, постройте график распределения и сформулируйте ответ на вопрос о количестве промокодов."
   ]
  },
  {
   "cell_type": "code",
   "execution_count": 49,
   "id": "ad7c0c88",
   "metadata": {},
   "outputs": [
    {
     "name": "stderr",
     "output_type": "stream",
     "text": [
      "/opt/conda/lib/python3.9/site-packages/scipy/stats/_discrete_distns.py:78: RuntimeWarning: divide by zero encountered in _binom_pdf\n",
      "  return _boost._binom_pdf(x, n, p)\n"
     ]
    },
    {
     "data": {
      "text/plain": [
       "95.02270393485402"
      ]
     },
     "execution_count": 49,
     "metadata": {},
     "output_type": "execute_result"
    },
    {
     "data": {
      "image/png": "[encoded data removed]",
      "text/plain": [
       "<Figure size 432x288 with 1 Axes>"
      ]
     },
     "metadata": {
      "needs_background": "light"
     },
     "output_type": "display_data"
    }
   ],
   "source": [
    "\n",
    "\n",
    "p = 0.1 \n",
    "n = 1115 \n",
    "\n",
    "mu = n * p\n",
    "sigma = sqrt(n * p * (1 - p))\n",
    "\n",
    "distr = []\n",
    "distr2 = st.norm(mu, sigma)\n",
    "\n",
    "for k in range(0, n + 1):\n",
    "    current_value = binom.pmf(k, n, p)\n",
    "    distr.append(current_value)\n",
    "    \n",
    "plt.bar(range(0, n + 1), distr)\n",
    "\n",
    "\n",
    "\n",
    "\n",
    "distr2.ppf(0.05)"
   ]
  },
  {
   "cell_type": "markdown",
   "id": "a0ff3b67",
   "metadata": {},
   "source": [
    "При рассылке 1115 промокодов, вероятность не выполнить план будет 5%."
   ]
  },
  {
   "cell_type": "markdown",
   "id": "2057471e",
   "metadata": {},
   "source": [
    "Отдел маркетинга рассылает клиентам push-уведомления в мобильном приложении. Клиенты могут открыть его или не открывать. Известно, что уведомления открывают около 40 % получивших клиентов. Отдел планирует разослать \n",
    "1 млн уведомлений. С помощью аппроксимации постройте примерный график распределения и оцените вероятность того, что уведомление откроют не более 399,5 тыс. пользователей."
   ]
  },
  {
   "cell_type": "code",
   "execution_count": 50,
   "id": "ca00b28d",
   "metadata": {},
   "outputs": [
    {
     "data": {
      "text/plain": [
       "0.154"
      ]
     },
     "execution_count": 50,
     "metadata": {},
     "output_type": "execute_result"
    },
    {
     "data": {
      "image/png": "[encoded data removed]",
      "text/plain": [
       "<Figure size 432x288 with 1 Axes>"
      ]
     },
     "metadata": {
      "needs_background": "light"
     },
     "output_type": "display_data"
    }
   ],
   "source": [
    "n=1000000\n",
    "p = 0.4\n",
    "distr = binom(n, p)\n",
    "\n",
    "sns.histplot(distr.rvs(10000))\n",
    "round(distr.cdf(399500),3)"
   ]
  },
  {
   "cell_type": "markdown",
   "id": "7371592a",
   "metadata": {},
   "source": [
    "При рассылке 1 млн уведомлений, вероятность того, что их откроют 399,5 тыс. пользователей равна 15.4%"
   ]
  }
 ],
 "metadata": {
  "ExecuteTimeLog": [
   {
    "duration": 43,
    "start_time": "2023-06-23T14:54:18.327Z"
   },
   {
    "duration": 414,
    "start_time": "2023-06-23T14:54:21.118Z"
   },
   {
    "duration": 246,
    "start_time": "2023-06-23T14:54:22.679Z"
   },
   {
    "duration": 15,
    "start_time": "2023-06-23T14:54:52.044Z"
   },
   {
    "duration": 10,
    "start_time": "2023-06-23T14:55:08.311Z"
   },
   {
    "duration": 85,
    "start_time": "2023-06-23T16:52:15.416Z"
   },
   {
    "duration": 562,
    "start_time": "2023-06-23T16:52:18.217Z"
   },
   {
    "duration": 334,
    "start_time": "2023-06-23T16:52:18.953Z"
   },
   {
    "duration": 28,
    "start_time": "2023-06-23T16:52:19.329Z"
   },
   {
    "duration": 10,
    "start_time": "2023-06-23T16:52:19.756Z"
   },
   {
    "duration": 20,
    "start_time": "2023-06-23T16:52:20.234Z"
   },
   {
    "duration": 105,
    "start_time": "2023-06-23T16:53:11.828Z"
   },
   {
    "duration": 15,
    "start_time": "2023-06-23T16:53:12.854Z"
   },
   {
    "duration": 16,
    "start_time": "2023-06-23T16:53:13.334Z"
   },
   {
    "duration": 16,
    "start_time": "2023-06-23T16:54:18.768Z"
   },
   {
    "duration": 16,
    "start_time": "2023-06-23T16:54:26.366Z"
   },
   {
    "duration": 11,
    "start_time": "2023-06-23T16:54:35.865Z"
   },
   {
    "duration": 44,
    "start_time": "2023-06-23T17:40:59.819Z"
   },
   {
    "duration": 693,
    "start_time": "2023-06-23T17:43:09.595Z"
   },
   {
    "duration": 254,
    "start_time": "2023-06-23T17:43:18.126Z"
   },
   {
    "duration": 308,
    "start_time": "2023-06-23T17:43:21.041Z"
   },
   {
    "duration": 293,
    "start_time": "2023-06-23T17:43:43.088Z"
   },
   {
    "duration": 26,
    "start_time": "2023-06-23T17:44:13.394Z"
   },
   {
    "duration": 3074,
    "start_time": "2023-06-23T17:44:36.422Z"
   },
   {
    "duration": 270,
    "start_time": "2023-06-23T17:45:02.699Z"
   },
   {
    "duration": 417,
    "start_time": "2023-06-23T17:45:33.594Z"
   },
   {
    "duration": 272,
    "start_time": "2023-06-23T17:45:52.490Z"
   },
   {
    "duration": 279,
    "start_time": "2023-06-23T17:46:14.749Z"
   },
   {
    "duration": 232,
    "start_time": "2023-06-23T17:46:27.938Z"
   },
   {
    "duration": 267,
    "start_time": "2023-06-23T17:46:39.176Z"
   },
   {
    "duration": 331,
    "start_time": "2023-06-23T17:46:50.288Z"
   },
   {
    "duration": 260,
    "start_time": "2023-06-23T17:47:17.491Z"
   },
   {
    "duration": 333,
    "start_time": "2023-06-23T17:52:29.557Z"
   },
   {
    "duration": 464,
    "start_time": "2023-06-23T17:53:57.330Z"
   },
   {
    "duration": 402,
    "start_time": "2023-06-23T17:54:06.755Z"
   },
   {
    "duration": 429,
    "start_time": "2023-06-23T17:54:43.464Z"
   },
   {
    "duration": 397,
    "start_time": "2023-06-23T17:54:52.538Z"
   },
   {
    "duration": 419,
    "start_time": "2023-06-23T17:54:58.958Z"
   },
   {
    "duration": 267,
    "start_time": "2023-06-23T17:55:03.425Z"
   },
   {
    "duration": 556,
    "start_time": "2023-06-23T17:55:07.288Z"
   },
   {
    "duration": 419,
    "start_time": "2023-07-05T17:20:48.266Z"
   },
   {
    "duration": 197,
    "start_time": "2023-07-05T17:20:49.549Z"
   },
   {
    "duration": 11,
    "start_time": "2023-07-05T17:20:50.607Z"
   },
   {
    "duration": 10,
    "start_time": "2023-07-05T17:20:51.429Z"
   },
   {
    "duration": 13,
    "start_time": "2023-07-05T17:20:54.570Z"
   },
   {
    "duration": 62,
    "start_time": "2023-07-05T17:20:59.693Z"
   },
   {
    "duration": 672,
    "start_time": "2023-07-05T17:21:30.505Z"
   },
   {
    "duration": 240,
    "start_time": "2023-07-05T17:22:02.410Z"
   },
   {
    "duration": 31,
    "start_time": "2023-07-05T17:23:04.808Z"
   },
   {
    "duration": 23,
    "start_time": "2023-07-05T17:23:57.667Z"
   },
   {
    "duration": 297,
    "start_time": "2023-07-05T17:24:21.625Z"
   },
   {
    "duration": 233,
    "start_time": "2023-07-05T17:24:25.383Z"
   },
   {
    "duration": 234,
    "start_time": "2023-07-05T17:24:39.082Z"
   },
   {
    "duration": 218,
    "start_time": "2023-07-05T17:25:12.632Z"
   },
   {
    "duration": 256,
    "start_time": "2023-07-05T17:25:16.296Z"
   },
   {
    "duration": 310,
    "start_time": "2023-07-05T17:25:25.515Z"
   },
   {
    "duration": 396,
    "start_time": "2023-07-05T17:26:29.891Z"
   },
   {
    "duration": 2,
    "start_time": "2023-07-05T17:27:12.114Z"
   },
   {
    "duration": 7,
    "start_time": "2023-07-05T17:28:09.885Z"
   },
   {
    "duration": 7,
    "start_time": "2023-07-05T17:29:16.291Z"
   },
   {
    "duration": 6,
    "start_time": "2023-07-05T17:30:19.583Z"
   },
   {
    "duration": 895,
    "start_time": "2023-09-08T20:53:42.611Z"
   },
   {
    "duration": 203,
    "start_time": "2023-09-08T20:53:43.507Z"
   },
   {
    "duration": 12,
    "start_time": "2023-09-08T20:53:43.986Z"
   },
   {
    "duration": 16,
    "start_time": "2023-09-08T20:53:44.639Z"
   },
   {
    "duration": 10,
    "start_time": "2023-09-08T20:54:10.949Z"
   },
   {
    "duration": 55,
    "start_time": "2023-09-16T11:31:18.951Z"
   },
   {
    "duration": 1236,
    "start_time": "2023-09-16T11:31:24.213Z"
   },
   {
    "duration": 72,
    "start_time": "2023-09-16T11:31:25.451Z"
   },
   {
    "duration": 51,
    "start_time": "2023-09-16T11:31:26.074Z"
   },
   {
    "duration": 152,
    "start_time": "2023-09-16T13:16:16.397Z"
   },
   {
    "duration": 88,
    "start_time": "2023-09-16T13:17:45.072Z"
   },
   {
    "duration": 1198,
    "start_time": "2023-09-16T13:19:43.585Z"
   },
   {
    "duration": 70,
    "start_time": "2023-09-16T13:19:44.786Z"
   },
   {
    "duration": 47,
    "start_time": "2023-09-16T13:19:44.857Z"
   },
   {
    "duration": 10,
    "start_time": "2023-09-16T13:19:44.906Z"
   },
   {
    "duration": 30,
    "start_time": "2023-09-16T13:19:44.918Z"
   },
   {
    "duration": 7,
    "start_time": "2023-09-16T13:19:44.950Z"
   },
   {
    "duration": 15,
    "start_time": "2023-09-16T13:19:44.959Z"
   },
   {
    "duration": 60,
    "start_time": "2023-09-16T13:19:44.976Z"
   },
   {
    "duration": 204,
    "start_time": "2023-09-16T13:19:45.038Z"
   },
   {
    "duration": 11,
    "start_time": "2023-09-16T13:19:45.247Z"
   },
   {
    "duration": 223,
    "start_time": "2023-09-16T13:19:45.260Z"
   },
   {
    "duration": 223,
    "start_time": "2023-09-16T13:19:45.485Z"
   },
   {
    "duration": 201,
    "start_time": "2023-09-16T13:19:45.709Z"
   },
   {
    "duration": 45,
    "start_time": "2023-09-16T13:19:45.912Z"
   },
   {
    "duration": 12,
    "start_time": "2023-09-16T13:19:45.959Z"
   },
   {
    "duration": 40,
    "start_time": "2023-09-16T13:19:45.973Z"
   },
   {
    "duration": 32,
    "start_time": "2023-09-16T13:19:46.015Z"
   },
   {
    "duration": 20,
    "start_time": "2023-09-16T13:19:46.049Z"
   },
   {
    "duration": 413,
    "start_time": "2023-09-16T13:19:46.071Z"
   },
   {
    "duration": 19,
    "start_time": "2023-09-16T13:19:46.485Z"
   },
   {
    "duration": 455,
    "start_time": "2023-09-16T13:19:46.505Z"
   },
   {
    "duration": 68,
    "start_time": "2023-09-16T13:19:46.961Z"
   },
   {
    "duration": 2,
    "start_time": "2023-09-16T13:19:47.047Z"
   },
   {
    "duration": 23,
    "start_time": "2023-09-16T13:19:47.050Z"
   },
   {
    "duration": 29,
    "start_time": "2023-09-16T13:19:47.075Z"
   },
   {
    "duration": 8,
    "start_time": "2023-09-16T13:19:47.106Z"
   },
   {
    "duration": 37,
    "start_time": "2023-09-16T13:19:47.116Z"
   },
   {
    "duration": 7,
    "start_time": "2023-09-16T13:19:47.157Z"
   },
   {
    "duration": 380,
    "start_time": "2023-09-16T13:19:47.166Z"
   },
   {
    "duration": 17,
    "start_time": "2023-09-16T13:19:47.548Z"
   },
   {
    "duration": 1047,
    "start_time": "2023-09-16T13:19:47.567Z"
   },
   {
    "duration": 11,
    "start_time": "2023-09-16T13:19:48.615Z"
   },
   {
    "duration": 20,
    "start_time": "2023-09-16T13:19:48.628Z"
   },
   {
    "duration": 17,
    "start_time": "2023-09-16T13:19:48.650Z"
   },
   {
    "duration": 5,
    "start_time": "2023-09-16T13:19:48.669Z"
   },
   {
    "duration": 14,
    "start_time": "2023-09-16T13:19:48.676Z"
   },
   {
    "duration": 86,
    "start_time": "2023-09-16T13:19:48.692Z"
   },
   {
    "duration": 0,
    "start_time": "2023-09-16T13:19:48.780Z"
   },
   {
    "duration": 0,
    "start_time": "2023-09-16T13:19:48.781Z"
   },
   {
    "duration": 0,
    "start_time": "2023-09-16T13:19:48.782Z"
   },
   {
    "duration": 0,
    "start_time": "2023-09-16T13:19:48.783Z"
   },
   {
    "duration": 4,
    "start_time": "2023-09-16T14:08:02.350Z"
   },
   {
    "duration": 6,
    "start_time": "2023-09-16T14:18:38.884Z"
   },
   {
    "duration": 7,
    "start_time": "2023-09-16T14:19:01.687Z"
   },
   {
    "duration": 5,
    "start_time": "2023-09-16T14:19:04.143Z"
   },
   {
    "duration": 4,
    "start_time": "2023-09-16T14:24:59.606Z"
   },
   {
    "duration": 1386,
    "start_time": "2023-09-18T10:52:17.756Z"
   },
   {
    "duration": 81,
    "start_time": "2023-09-18T10:52:19.144Z"
   },
   {
    "duration": 49,
    "start_time": "2023-09-18T10:52:19.227Z"
   },
   {
    "duration": 17,
    "start_time": "2023-09-18T10:52:19.279Z"
   },
   {
    "duration": 23,
    "start_time": "2023-09-18T10:52:19.297Z"
   },
   {
    "duration": 23,
    "start_time": "2023-09-18T10:52:19.322Z"
   },
   {
    "duration": 22,
    "start_time": "2023-09-18T10:52:19.346Z"
   },
   {
    "duration": 25,
    "start_time": "2023-09-18T10:52:19.370Z"
   },
   {
    "duration": 16,
    "start_time": "2023-09-18T10:52:19.397Z"
   },
   {
    "duration": 178,
    "start_time": "2023-09-18T10:52:19.416Z"
   },
   {
    "duration": 12,
    "start_time": "2023-09-18T10:52:19.596Z"
   },
   {
    "duration": 149,
    "start_time": "2023-09-18T10:52:19.610Z"
   },
   {
    "duration": 12,
    "start_time": "2023-09-18T10:52:19.761Z"
   },
   {
    "duration": 198,
    "start_time": "2023-09-18T10:52:19.775Z"
   },
   {
    "duration": 286,
    "start_time": "2023-09-18T10:52:19.976Z"
   },
   {
    "duration": 212,
    "start_time": "2023-09-18T10:52:20.263Z"
   },
   {
    "duration": 15,
    "start_time": "2023-09-18T10:52:20.477Z"
   },
   {
    "duration": 44,
    "start_time": "2023-09-18T10:52:20.494Z"
   },
   {
    "duration": 15,
    "start_time": "2023-09-18T10:52:20.557Z"
   },
   {
    "duration": 66,
    "start_time": "2023-09-18T10:52:20.574Z"
   },
   {
    "duration": 20,
    "start_time": "2023-09-18T10:52:20.642Z"
   },
   {
    "duration": 30,
    "start_time": "2023-09-18T10:52:20.664Z"
   },
   {
    "duration": 519,
    "start_time": "2023-09-18T10:52:20.695Z"
   },
   {
    "duration": 46,
    "start_time": "2023-09-18T10:52:21.216Z"
   },
   {
    "duration": 429,
    "start_time": "2023-09-18T10:52:21.264Z"
   },
   {
    "duration": 342,
    "start_time": "2023-09-18T10:52:21.695Z"
   },
   {
    "duration": 350,
    "start_time": "2023-09-18T10:52:22.038Z"
   },
   {
    "duration": 76,
    "start_time": "2023-09-18T10:52:22.392Z"
   },
   {
    "duration": 31,
    "start_time": "2023-09-18T10:52:22.470Z"
   },
   {
    "duration": 166,
    "start_time": "2023-09-18T10:52:22.502Z"
   },
   {
    "duration": 17,
    "start_time": "2023-09-18T10:52:22.669Z"
   },
   {
    "duration": 17,
    "start_time": "2023-09-18T10:52:22.688Z"
   },
   {
    "duration": 64,
    "start_time": "2023-09-18T10:52:22.707Z"
   },
   {
    "duration": 4,
    "start_time": "2023-09-18T10:52:22.773Z"
   },
   {
    "duration": 45,
    "start_time": "2023-09-18T10:52:22.779Z"
   },
   {
    "duration": 19,
    "start_time": "2023-09-18T10:52:22.830Z"
   },
   {
    "duration": 48,
    "start_time": "2023-09-18T10:52:22.851Z"
   },
   {
    "duration": 37,
    "start_time": "2023-09-18T10:52:22.900Z"
   },
   {
    "duration": 34,
    "start_time": "2023-09-18T10:52:22.939Z"
   },
   {
    "duration": 49,
    "start_time": "2023-09-18T10:52:22.976Z"
   },
   {
    "duration": 64,
    "start_time": "2023-09-18T10:52:23.026Z"
   },
   {
    "duration": 409,
    "start_time": "2023-09-18T10:52:23.092Z"
   },
   {
    "duration": 18,
    "start_time": "2023-09-18T10:52:23.503Z"
   },
   {
    "duration": 36,
    "start_time": "2023-09-18T10:52:23.523Z"
   },
   {
    "duration": 11,
    "start_time": "2023-09-18T10:52:23.561Z"
   },
   {
    "duration": 17,
    "start_time": "2023-09-18T10:52:23.574Z"
   },
   {
    "duration": 20,
    "start_time": "2023-09-18T10:52:23.593Z"
   },
   {
    "duration": 119,
    "start_time": "2023-09-18T10:52:23.616Z"
   },
   {
    "duration": 1836,
    "start_time": "2023-09-18T10:52:23.737Z"
   },
   {
    "duration": 225,
    "start_time": "2023-09-18T10:52:25.575Z"
   },
   {
    "duration": 155,
    "start_time": "2023-09-18T11:02:12.808Z"
   },
   {
    "duration": 1305,
    "start_time": "2023-09-18T11:12:50.923Z"
   },
   {
    "duration": 81,
    "start_time": "2023-09-18T11:12:52.230Z"
   },
   {
    "duration": 52,
    "start_time": "2023-09-18T11:12:52.313Z"
   },
   {
    "duration": 18,
    "start_time": "2023-09-18T11:12:52.369Z"
   },
   {
    "duration": 37,
    "start_time": "2023-09-18T11:12:52.389Z"
   },
   {
    "duration": 14,
    "start_time": "2023-09-18T11:12:52.428Z"
   },
   {
    "duration": 26,
    "start_time": "2023-09-18T11:12:52.443Z"
   },
   {
    "duration": 30,
    "start_time": "2023-09-18T11:12:52.471Z"
   },
   {
    "duration": 20,
    "start_time": "2023-09-18T11:12:52.502Z"
   },
   {
    "duration": 163,
    "start_time": "2023-09-18T11:12:52.525Z"
   },
   {
    "duration": 12,
    "start_time": "2023-09-18T11:12:52.690Z"
   },
   {
    "duration": 148,
    "start_time": "2023-09-18T11:12:52.704Z"
   },
   {
    "duration": 12,
    "start_time": "2023-09-18T11:12:52.857Z"
   },
   {
    "duration": 224,
    "start_time": "2023-09-18T11:12:52.870Z"
   },
   {
    "duration": 295,
    "start_time": "2023-09-18T11:12:53.095Z"
   },
   {
    "duration": 214,
    "start_time": "2023-09-18T11:12:53.392Z"
   },
   {
    "duration": 16,
    "start_time": "2023-09-18T11:12:53.608Z"
   },
   {
    "duration": 67,
    "start_time": "2023-09-18T11:12:53.626Z"
   },
   {
    "duration": 26,
    "start_time": "2023-09-18T11:12:53.695Z"
   },
   {
    "duration": 51,
    "start_time": "2023-09-18T11:12:53.723Z"
   },
   {
    "duration": 18,
    "start_time": "2023-09-18T11:12:53.776Z"
   },
   {
    "duration": 42,
    "start_time": "2023-09-18T11:12:53.796Z"
   },
   {
    "duration": 539,
    "start_time": "2023-09-18T11:12:53.839Z"
   },
   {
    "duration": 32,
    "start_time": "2023-09-18T11:12:54.381Z"
   },
   {
    "duration": 441,
    "start_time": "2023-09-18T11:12:54.415Z"
   },
   {
    "duration": 335,
    "start_time": "2023-09-18T11:12:54.858Z"
   },
   {
    "duration": 347,
    "start_time": "2023-09-18T11:12:55.195Z"
   },
   {
    "duration": 75,
    "start_time": "2023-09-18T11:12:55.546Z"
   },
   {
    "duration": 35,
    "start_time": "2023-09-18T11:12:55.623Z"
   },
   {
    "duration": 154,
    "start_time": "2023-09-18T11:12:55.660Z"
   },
   {
    "duration": 15,
    "start_time": "2023-09-18T11:12:55.816Z"
   },
   {
    "duration": 8,
    "start_time": "2023-09-18T11:12:55.833Z"
   },
   {
    "duration": 90,
    "start_time": "2023-09-18T11:12:55.843Z"
   },
   {
    "duration": 5,
    "start_time": "2023-09-18T11:12:55.935Z"
   },
   {
    "duration": 29,
    "start_time": "2023-09-18T11:12:55.941Z"
   },
   {
    "duration": 10,
    "start_time": "2023-09-18T11:12:55.972Z"
   },
   {
    "duration": 18,
    "start_time": "2023-09-18T11:12:55.983Z"
   },
   {
    "duration": 10,
    "start_time": "2023-09-18T11:12:56.003Z"
   },
   {
    "duration": 9,
    "start_time": "2023-09-18T11:12:56.015Z"
   },
   {
    "duration": 9,
    "start_time": "2023-09-18T11:12:56.026Z"
   },
   {
    "duration": 28,
    "start_time": "2023-09-18T11:12:56.037Z"
   },
   {
    "duration": 402,
    "start_time": "2023-09-18T11:12:56.067Z"
   },
   {
    "duration": 19,
    "start_time": "2023-09-18T11:12:56.471Z"
   },
   {
    "duration": 9,
    "start_time": "2023-09-18T11:12:56.491Z"
   },
   {
    "duration": 9,
    "start_time": "2023-09-18T11:12:56.502Z"
   },
   {
    "duration": 24,
    "start_time": "2023-09-18T11:12:56.513Z"
   },
   {
    "duration": 6,
    "start_time": "2023-09-18T11:12:56.557Z"
   },
   {
    "duration": 151,
    "start_time": "2023-09-18T11:12:56.565Z"
   },
   {
    "duration": 1830,
    "start_time": "2023-09-18T11:12:56.718Z"
   },
   {
    "duration": 236,
    "start_time": "2023-09-18T11:12:58.557Z"
   },
   {
    "duration": 1282,
    "start_time": "2023-09-19T19:44:56.975Z"
   },
   {
    "duration": 84,
    "start_time": "2023-09-19T19:44:58.259Z"
   },
   {
    "duration": 60,
    "start_time": "2023-09-19T19:44:58.345Z"
   },
   {
    "duration": 16,
    "start_time": "2023-09-19T19:44:58.408Z"
   },
   {
    "duration": 15,
    "start_time": "2023-09-19T19:44:58.426Z"
   },
   {
    "duration": 7,
    "start_time": "2023-09-19T19:44:58.442Z"
   },
   {
    "duration": 41,
    "start_time": "2023-09-19T19:44:58.450Z"
   },
   {
    "duration": 22,
    "start_time": "2023-09-19T19:44:58.494Z"
   },
   {
    "duration": 16,
    "start_time": "2023-09-19T19:44:58.517Z"
   },
   {
    "duration": 202,
    "start_time": "2023-09-19T19:44:58.536Z"
   },
   {
    "duration": 11,
    "start_time": "2023-09-19T19:44:58.739Z"
   },
   {
    "duration": 173,
    "start_time": "2023-09-19T19:44:58.751Z"
   },
   {
    "duration": 11,
    "start_time": "2023-09-19T19:44:58.925Z"
   },
   {
    "duration": 208,
    "start_time": "2023-09-19T19:44:58.938Z"
   },
   {
    "duration": 358,
    "start_time": "2023-09-19T19:44:59.148Z"
   },
   {
    "duration": 239,
    "start_time": "2023-09-19T19:44:59.511Z"
   },
   {
    "duration": 45,
    "start_time": "2023-09-19T19:44:59.752Z"
   },
   {
    "duration": 53,
    "start_time": "2023-09-19T19:44:59.799Z"
   },
   {
    "duration": 30,
    "start_time": "2023-09-19T19:44:59.854Z"
   },
   {
    "duration": 46,
    "start_time": "2023-09-19T19:44:59.886Z"
   },
   {
    "duration": 18,
    "start_time": "2023-09-19T19:44:59.933Z"
   },
   {
    "duration": 41,
    "start_time": "2023-09-19T19:44:59.980Z"
   },
   {
    "duration": 550,
    "start_time": "2023-09-19T19:45:00.022Z"
   },
   {
    "duration": 48,
    "start_time": "2023-09-19T19:45:00.580Z"
   },
   {
    "duration": 502,
    "start_time": "2023-09-19T19:45:00.629Z"
   },
   {
    "duration": 383,
    "start_time": "2023-09-19T19:45:01.133Z"
   },
   {
    "duration": 393,
    "start_time": "2023-09-19T19:45:01.518Z"
   },
   {
    "duration": 93,
    "start_time": "2023-09-19T19:45:01.915Z"
   },
   {
    "duration": 98,
    "start_time": "2023-09-19T19:45:02.010Z"
   },
   {
    "duration": 258,
    "start_time": "2023-09-19T19:45:02.110Z"
   },
   {
    "duration": 25,
    "start_time": "2023-09-19T19:45:02.370Z"
   },
   {
    "duration": 98,
    "start_time": "2023-09-19T19:45:02.397Z"
   },
   {
    "duration": 70,
    "start_time": "2023-09-19T19:45:02.498Z"
   },
   {
    "duration": 5,
    "start_time": "2023-09-19T19:45:02.569Z"
   },
   {
    "duration": 25,
    "start_time": "2023-09-19T19:45:02.576Z"
   },
   {
    "duration": 23,
    "start_time": "2023-09-19T19:45:02.602Z"
   },
   {
    "duration": 13,
    "start_time": "2023-09-19T19:45:02.627Z"
   },
   {
    "duration": 110,
    "start_time": "2023-09-19T19:45:02.642Z"
   },
   {
    "duration": 0,
    "start_time": "2023-09-19T19:45:02.754Z"
   },
   {
    "duration": 0,
    "start_time": "2023-09-19T19:45:02.755Z"
   },
   {
    "duration": 0,
    "start_time": "2023-09-19T19:45:02.756Z"
   },
   {
    "duration": 0,
    "start_time": "2023-09-19T19:45:02.757Z"
   },
   {
    "duration": 0,
    "start_time": "2023-09-19T19:45:02.758Z"
   },
   {
    "duration": 0,
    "start_time": "2023-09-19T19:45:02.759Z"
   },
   {
    "duration": 0,
    "start_time": "2023-09-19T19:45:02.760Z"
   },
   {
    "duration": 0,
    "start_time": "2023-09-19T19:45:02.761Z"
   },
   {
    "duration": 0,
    "start_time": "2023-09-19T19:45:02.762Z"
   },
   {
    "duration": 0,
    "start_time": "2023-09-19T19:45:02.763Z"
   },
   {
    "duration": 0,
    "start_time": "2023-09-19T19:45:02.765Z"
   },
   {
    "duration": 0,
    "start_time": "2023-09-19T19:45:02.766Z"
   },
   {
    "duration": 0,
    "start_time": "2023-09-19T19:45:02.767Z"
   },
   {
    "duration": 1298,
    "start_time": "2023-09-19T19:46:41.206Z"
   },
   {
    "duration": 84,
    "start_time": "2023-09-19T19:46:42.507Z"
   },
   {
    "duration": 62,
    "start_time": "2023-09-19T19:46:42.594Z"
   },
   {
    "duration": 37,
    "start_time": "2023-09-19T19:46:42.657Z"
   },
   {
    "duration": 19,
    "start_time": "2023-09-19T19:46:42.697Z"
   },
   {
    "duration": 8,
    "start_time": "2023-09-19T19:46:42.718Z"
   },
   {
    "duration": 10,
    "start_time": "2023-09-19T19:46:42.728Z"
   },
   {
    "duration": 59,
    "start_time": "2023-09-19T19:46:42.739Z"
   },
   {
    "duration": 19,
    "start_time": "2023-09-19T19:46:42.800Z"
   },
   {
    "duration": 195,
    "start_time": "2023-09-19T19:46:42.821Z"
   },
   {
    "duration": 13,
    "start_time": "2023-09-19T19:46:43.018Z"
   },
   {
    "duration": 187,
    "start_time": "2023-09-19T19:46:43.033Z"
   },
   {
    "duration": 13,
    "start_time": "2023-09-19T19:46:43.222Z"
   },
   {
    "duration": 220,
    "start_time": "2023-09-19T19:46:43.238Z"
   },
   {
    "duration": 346,
    "start_time": "2023-09-19T19:46:43.459Z"
   },
   {
    "duration": 229,
    "start_time": "2023-09-19T19:46:43.807Z"
   },
   {
    "duration": 47,
    "start_time": "2023-09-19T19:46:44.039Z"
   },
   {
    "duration": 46,
    "start_time": "2023-09-19T19:46:44.089Z"
   },
   {
    "duration": 11,
    "start_time": "2023-09-19T19:46:44.137Z"
   },
   {
    "duration": 79,
    "start_time": "2023-09-19T19:46:44.150Z"
   },
   {
    "duration": 14,
    "start_time": "2023-09-19T19:46:44.231Z"
   },
   {
    "duration": 54,
    "start_time": "2023-09-19T19:46:44.246Z"
   },
   {
    "duration": 534,
    "start_time": "2023-09-19T19:46:44.302Z"
   },
   {
    "duration": 43,
    "start_time": "2023-09-19T19:46:44.838Z"
   },
   {
    "duration": 472,
    "start_time": "2023-09-19T19:46:44.883Z"
   },
   {
    "duration": 386,
    "start_time": "2023-09-19T19:46:45.357Z"
   },
   {
    "duration": 392,
    "start_time": "2023-09-19T19:46:45.745Z"
   },
   {
    "duration": 84,
    "start_time": "2023-09-19T19:46:46.139Z"
   },
   {
    "duration": 15,
    "start_time": "2023-09-19T19:46:46.225Z"
   },
   {
    "duration": 191,
    "start_time": "2023-09-19T19:46:46.242Z"
   },
   {
    "duration": 17,
    "start_time": "2023-09-19T19:46:46.434Z"
   },
   {
    "duration": 2,
    "start_time": "2023-09-19T19:46:46.453Z"
   },
   {
    "duration": 59,
    "start_time": "2023-09-19T19:46:46.457Z"
   },
   {
    "duration": 4,
    "start_time": "2023-09-19T19:46:46.518Z"
   },
   {
    "duration": 6,
    "start_time": "2023-09-19T19:46:46.525Z"
   },
   {
    "duration": 10,
    "start_time": "2023-09-19T19:46:46.533Z"
   },
   {
    "duration": 37,
    "start_time": "2023-09-19T19:46:46.545Z"
   },
   {
    "duration": 10,
    "start_time": "2023-09-19T19:46:46.584Z"
   },
   {
    "duration": 12,
    "start_time": "2023-09-19T19:46:46.597Z"
   },
   {
    "duration": 11,
    "start_time": "2023-09-19T19:46:46.611Z"
   },
   {
    "duration": 7,
    "start_time": "2023-09-19T19:46:46.625Z"
   },
   {
    "duration": 498,
    "start_time": "2023-09-19T19:46:46.634Z"
   },
   {
    "duration": 16,
    "start_time": "2023-09-19T19:46:47.133Z"
   },
   {
    "duration": 7,
    "start_time": "2023-09-19T19:46:47.151Z"
   },
   {
    "duration": 26,
    "start_time": "2023-09-19T19:46:47.160Z"
   },
   {
    "duration": 12,
    "start_time": "2023-09-19T19:46:47.189Z"
   },
   {
    "duration": 7,
    "start_time": "2023-09-19T19:46:47.203Z"
   },
   {
    "duration": 11,
    "start_time": "2023-09-19T19:46:47.212Z"
   },
   {
    "duration": 2099,
    "start_time": "2023-09-19T19:46:47.225Z"
   },
   {
    "duration": 236,
    "start_time": "2023-09-19T19:46:49.326Z"
   },
   {
    "duration": 91,
    "start_time": "2023-09-19T19:48:55.864Z"
   },
   {
    "duration": 6,
    "start_time": "2023-09-19T19:49:54.133Z"
   },
   {
    "duration": 23,
    "start_time": "2023-09-19T19:49:54.678Z"
   },
   {
    "duration": 24,
    "start_time": "2023-09-19T19:49:54.975Z"
   },
   {
    "duration": 15,
    "start_time": "2023-09-19T19:49:55.270Z"
   },
   {
    "duration": 12,
    "start_time": "2023-09-19T19:49:55.541Z"
   },
   {
    "duration": 10,
    "start_time": "2023-09-19T19:49:56.845Z"
   }
  ],
  "kernelspec": {
   "display_name": "Python 3 (ipykernel)",
   "language": "python",
   "name": "python3"
  },
  "language_info": {
   "codemirror_mode": {
    "name": "ipython",
    "version": 3
   },
   "file_extension": ".py",
   "mimetype": "text/x-python",
   "name": "python",
   "nbconvert_exporter": "python",
   "pygments_lexer": "ipython3",
   "version": "3.10.9"
  },
  "toc": {
   "base_numbering": 1,
   "nav_menu": {},
   "number_sections": true,
   "sideBar": true,
   "skip_h1_title": true,
   "title_cell": "Table of Contents",
   "title_sidebar": "Contents",
   "toc_cell": false,
   "toc_position": {},
   "toc_section_display": true,
   "toc_window_display": true
  }
 },
 "nbformat": 4,
 "nbformat_minor": 5
}
